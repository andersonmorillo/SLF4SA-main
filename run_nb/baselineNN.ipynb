{
 "cells": [
  {
   "cell_type": "code",
   "execution_count": 1,
   "metadata": {},
   "outputs": [],
   "source": [
    "import io\n",
    "import sys\n",
    "PATH = 'D:/Anderson/Downloads/SLF4SA-main/'\n",
    "DIR_DATA = 'D:/Anderson/Downloads/SLF4SA-main/data/input/'\n",
    "sys.path.append(PATH) if PATH not in list(sys.path) else None\n",
    "import os\n",
    "import tensorflow as tf\n",
    "import pandas as pd\n",
    "import numpy as np\n",
    "import seaborn as sns\n",
    "from tqdm import tqdm\n",
    "import plotly.express as px\n",
    "import matplotlib.pyplot as plt\n",
    "from collections import Counter\n",
    "from sklearn import preprocessing\n",
    "\n",
    "from sklearn.pipeline import FeatureUnion\n",
    "from tensorflow import keras\n",
    "from keras.layers import Dense\n",
    "from keras.models import Sequential\n",
    "from sklearn.model_selection import RepeatedKFold\n",
    "from sklearn.preprocessing import LabelEncoder, StandardScaler\n",
    "\n",
    "\n",
    "from sklearn.metrics import plot_confusion_matrix\n",
    "from sklearn.feature_selection import SelectKBest, chi2, mutual_info_classif\n",
    "from sklearn.model_selection import StratifiedShuffleSplit, cross_val_score\n",
    "from imblearn.over_sampling import RandomOverSampler\n",
    "from sklearn.feature_extraction.text import CountVectorizer, TfidfVectorizer\n",
    "from sklearn.model_selection import train_test_split, cross_val_score, ShuffleSplit\n",
    "from sklearn.metrics import mean_squared_error, r2_score\n",
    "from sklearn.metrics import classification_report, confusion_matrix, recall_score, log_loss\n",
    "from sklearn.metrics import f1_score, accuracy_score, precision_score\n",
    "\n",
    "from logic.utils import Utils\n",
    "from logic.classifiers import Classifiers\n",
    "from logic.text_processing import TextProcessing\n",
    "from logic.lexical_vectorizer import LexicalVectorizer\n",
    "from root import DIR_RESULTS"
   ]
  },
  {
   "cell_type": "markdown",
   "metadata": {},
   "source": [
    "# Variable initialization "
   ]
  },
  {
   "cell_type": "code",
   "execution_count": 2,
   "metadata": {},
   "outputs": [],
   "source": [
    "lang = 'es'\n",
    "iteration = 10\n",
    "fold = 10\n",
    "classifiers = Classifiers.dict_classifiers\n",
    "tp = TextProcessing(lang=lang)\n",
    "lv = LexicalVectorizer(lang=lang, text_processing=tp)\n",
    "ut = Utils(lang=lang, text_processing=tp)"
   ]
  },
  {
   "cell_type": "markdown",
   "metadata": {},
   "source": [
    "# Import data"
   ]
  },
  {
   "cell_type": "code",
   "execution_count": 3,
   "metadata": {},
   "outputs": [
    {
     "name": "stdout",
     "output_type": "stream",
     "text": [
      "+ Import training...\n",
      "\t\t - Dataset size :(x: 5886 , y: 5886)\n",
      "+ Import test...\n",
      "\t\t - Dataset size :(x: 857 , y: 857)\n"
     ]
    }
   ],
   "source": [
    "print('+ Import training...')\n",
    "x, y = ut.get_data(file_name='tass2020_emotion_train')\n",
    "print('+ Import test...')\n",
    "x_eval, y_eval = ut.get_data(file_name='tass2020_emotion_dev')"
   ]
  },
  {
   "cell_type": "markdown",
   "metadata": {},
   "source": [
    "# Feature extraction"
   ]
  },
  {
   "cell_type": "code",
   "execution_count": 4,
   "metadata": {},
   "outputs": [
    {
     "name": "stdout",
     "output_type": "stream",
     "text": [
      "- train:\n",
      " [('anger ', 600), ('disgust ', 113), ('fear ', 67), ('joy ', 1270), ('others', 1), ('others ', 2888), ('sadness ', 706), ('surprise ', 241)]\n",
      "- test: \n",
      " [('anger ', 87), ('disgust ', 16), ('fear ', 10), ('joy ', 185), ('others ', 421), ('sadness ', 103), ('surprise ', 35)]\n"
     ]
    }
   ],
   "source": [
    "x = lv.transform(x)\n",
    "x_eval = lv.transform(x_eval)\n",
    "print('- train:\\n', sorted(Counter(y).items()))\n",
    "print('- test: \\n', sorted(Counter(y_eval).items()))"
   ]
  },
  {
   "cell_type": "markdown",
   "metadata": {},
   "source": [
    "# Over Sampling"
   ]
  },
  {
   "cell_type": "code",
   "execution_count": 5,
   "metadata": {},
   "outputs": [
    {
     "name": "stdout",
     "output_type": "stream",
     "text": [
      "- train:\n",
      " [('anger ', 2022), ('disgust ', 2022), ('fear ', 2022), ('joy ', 2022), ('others', 2022), ('others ', 2022), ('sadness ', 2022), ('surprise ', 2022)]\n",
      "- test:\n",
      " [('anger ', 866), ('disgust ', 866), ('fear ', 866), ('joy ', 866), ('others ', 866), ('sadness ', 866), ('surprise ', 866)]\n"
     ]
    }
   ],
   "source": [
    "k_fold = ShuffleSplit(n_splits=fold, test_size=0.25, random_state=42)\n",
    "\n",
    "x_train, x_test, y_train, y_test = train_test_split(x, y, test_size=.3, random_state=42)\n",
    "ros_train = RandomOverSampler(random_state=1000)\n",
    "x_train, y_train = ros_train.fit_resample(x_train, y_train)\n",
    "x_test, y_test = ros_train.fit_resample(x_test, y_test)\n",
    "print('- train:\\n', sorted(Counter(y_train).items()))\n",
    "print('- test:\\n', sorted(Counter(y_test).items()))"
   ]
  },
  {
   "cell_type": "code",
   "execution_count": 6,
   "metadata": {},
   "outputs": [],
   "source": [
    "shape = x_train.shape[1:]\n",
    "\n",
    "scaler = StandardScaler()\n",
    "x_train = scaler.fit_transform(x_train)\n",
    "x_test = scaler.transform(x_test)\n",
    "x_eval = scaler.transform(x_eval)"
   ]
  },
  {
   "cell_type": "code",
   "execution_count": 7,
   "metadata": {},
   "outputs": [],
   "source": [
    "lb = LabelEncoder()\n",
    "y_train = lb.fit_transform([i.rstrip() for i in y_train.to_list()])\n",
    "y_eval = lb.transform([i.rstrip() for i in y_eval.to_list()])\n",
    "y_test = lb.transform([i.rstrip() for i in y_test.to_list()])"
   ]
  },
  {
   "cell_type": "code",
   "execution_count": 8,
   "metadata": {},
   "outputs": [
    {
     "data": {
      "text/plain": [
       "array([3, 5, 3, ..., 6, 6, 6], dtype=int64)"
      ]
     },
     "execution_count": 8,
     "metadata": {},
     "output_type": "execute_result"
    }
   ],
   "source": [
    "y_train"
   ]
  },
  {
   "cell_type": "markdown",
   "metadata": {},
   "source": [
    "# NN Architecture"
   ]
  },
  {
   "cell_type": "code",
   "execution_count": 9,
   "metadata": {},
   "outputs": [
    {
     "name": "stdout",
     "output_type": "stream",
     "text": [
      "Model: \"sequential\"\n",
      "_________________________________________________________________\n",
      " Layer (type)                Output Shape              Param #   \n",
      "=================================================================\n",
      " dense (Dense)               (None, 21)                588       \n",
      "                                                                 \n",
      " dense_1 (Dense)             (None, 14)                308       \n",
      "                                                                 \n",
      " dense_2 (Dense)             (None, 7)                 105       \n",
      "                                                                 \n",
      "=================================================================\n",
      "Total params: 1,001\n",
      "Trainable params: 1,001\n",
      "Non-trainable params: 0\n",
      "_________________________________________________________________\n"
     ]
    }
   ],
   "source": [
    "keras.backend.clear_session()\n",
    "np.random.seed(42)\n",
    "tf.random.set_seed(42)\n",
    "\n",
    "model = keras.models.Sequential([keras.layers.Input(shape=shape),\n",
    "                                 keras.layers.Dense(21, activation=\"softmax\"),\n",
    "                                 keras.layers.Dense(14, activation=\"relu\"),\n",
    "                                 keras.layers.Dense(7, activation=\"softmax\")\n",
    "                                ])\n",
    "model.compile(loss=\"sparse_categorical_crossentropy\", optimizer=\"sgd\", metrics=[\"accuracy\"])\n",
    "model.summary()"
   ]
  },
  {
   "cell_type": "markdown",
   "metadata": {},
   "source": [
    "# Training"
   ]
  },
  {
   "cell_type": "code",
   "execution_count": 10,
   "metadata": {},
   "outputs": [
    {
     "name": "stdout",
     "output_type": "stream",
     "text": [
      "Epoch 1/50\n",
      "506/506 [==============================] - 2s 2ms/step - loss: 1.9146 - accuracy: 0.2463 - val_loss: 1.9629 - val_accuracy: 0.1429\n",
      "Epoch 2/50\n",
      "506/506 [==============================] - 1s 2ms/step - loss: 1.8985 - accuracy: 0.2499 - val_loss: 1.9732 - val_accuracy: 0.1429\n",
      "Epoch 3/50\n",
      "506/506 [==============================] - 1s 2ms/step - loss: 1.8946 - accuracy: 0.2500 - val_loss: 1.9744 - val_accuracy: 0.1429\n",
      "Epoch 4/50\n",
      "506/506 [==============================] - 1s 2ms/step - loss: 1.8913 - accuracy: 0.2499 - val_loss: 1.9735 - val_accuracy: 0.1429\n",
      "Epoch 5/50\n",
      "506/506 [==============================] - 1s 2ms/step - loss: 1.8877 - accuracy: 0.2499 - val_loss: 1.9717 - val_accuracy: 0.1429\n",
      "Epoch 6/50\n",
      "506/506 [==============================] - 1s 2ms/step - loss: 1.8837 - accuracy: 0.2499 - val_loss: 1.9710 - val_accuracy: 0.1429\n",
      "Epoch 7/50\n",
      "506/506 [==============================] - 1s 2ms/step - loss: 1.8785 - accuracy: 0.2501 - val_loss: 1.9686 - val_accuracy: 0.1429\n",
      "Epoch 8/50\n",
      "506/506 [==============================] - 1s 2ms/step - loss: 1.8716 - accuracy: 0.2507 - val_loss: 1.9633 - val_accuracy: 0.1427\n",
      "Epoch 9/50\n",
      "506/506 [==============================] - 1s 2ms/step - loss: 1.8614 - accuracy: 0.2508 - val_loss: 1.9575 - val_accuracy: 0.1422\n",
      "Epoch 10/50\n",
      "506/506 [==============================] - 1s 2ms/step - loss: 1.8453 - accuracy: 0.2530 - val_loss: 1.9514 - val_accuracy: 0.1429\n",
      "Epoch 11/50\n",
      "506/506 [==============================] - 1s 2ms/step - loss: 1.8213 - accuracy: 0.2555 - val_loss: 1.9438 - val_accuracy: 0.1476\n",
      "Epoch 12/50\n",
      "506/506 [==============================] - 1s 2ms/step - loss: 1.7920 - accuracy: 0.2682 - val_loss: 1.9351 - val_accuracy: 0.1742\n",
      "Epoch 13/50\n",
      "506/506 [==============================] - 1s 1ms/step - loss: 1.7656 - accuracy: 0.2825 - val_loss: 1.9310 - val_accuracy: 0.1805\n",
      "Epoch 14/50\n",
      "506/506 [==============================] - 1s 2ms/step - loss: 1.7474 - accuracy: 0.2979 - val_loss: 1.9302 - val_accuracy: 0.1788\n",
      "Epoch 15/50\n",
      "506/506 [==============================] - 1s 2ms/step - loss: 1.7348 - accuracy: 0.3071 - val_loss: 1.9249 - val_accuracy: 0.1998\n",
      "Epoch 16/50\n",
      "506/506 [==============================] - 1s 2ms/step - loss: 1.7248 - accuracy: 0.3081 - val_loss: 1.9206 - val_accuracy: 0.2047\n",
      "Epoch 17/50\n",
      "506/506 [==============================] - 1s 2ms/step - loss: 1.7153 - accuracy: 0.3093 - val_loss: 1.9149 - val_accuracy: 0.2196\n",
      "Epoch 18/50\n",
      "506/506 [==============================] - 1s 2ms/step - loss: 1.7062 - accuracy: 0.3168 - val_loss: 1.9086 - val_accuracy: 0.2318\n",
      "Epoch 19/50\n",
      "506/506 [==============================] - 1s 1ms/step - loss: 1.6971 - accuracy: 0.3202 - val_loss: 1.9015 - val_accuracy: 0.2100\n",
      "Epoch 20/50\n",
      "506/506 [==============================] - 1s 1ms/step - loss: 1.6882 - accuracy: 0.3194 - val_loss: 1.8950 - val_accuracy: 0.2273\n",
      "Epoch 21/50\n",
      "506/506 [==============================] - 1s 1ms/step - loss: 1.6798 - accuracy: 0.3256 - val_loss: 1.8897 - val_accuracy: 0.2240\n",
      "Epoch 22/50\n",
      "506/506 [==============================] - 1s 1ms/step - loss: 1.6721 - accuracy: 0.3282 - val_loss: 1.8836 - val_accuracy: 0.2283\n",
      "Epoch 23/50\n",
      "506/506 [==============================] - 1s 1ms/step - loss: 1.6651 - accuracy: 0.3349 - val_loss: 1.8782 - val_accuracy: 0.2247\n",
      "Epoch 24/50\n",
      "506/506 [==============================] - 1s 2ms/step - loss: 1.6588 - accuracy: 0.3391 - val_loss: 1.8746 - val_accuracy: 0.2272\n",
      "Epoch 25/50\n",
      "506/506 [==============================] - 1s 1ms/step - loss: 1.6533 - accuracy: 0.3458 - val_loss: 1.8714 - val_accuracy: 0.2283\n",
      "Epoch 26/50\n",
      "506/506 [==============================] - 1s 2ms/step - loss: 1.6486 - accuracy: 0.3477 - val_loss: 1.8676 - val_accuracy: 0.2145\n",
      "Epoch 27/50\n",
      "506/506 [==============================] - 1s 2ms/step - loss: 1.6443 - accuracy: 0.3521 - val_loss: 1.8643 - val_accuracy: 0.2253\n",
      "Epoch 28/50\n",
      "506/506 [==============================] - 1s 2ms/step - loss: 1.6402 - accuracy: 0.3533 - val_loss: 1.8612 - val_accuracy: 0.2405\n",
      "Epoch 29/50\n",
      "506/506 [==============================] - 1s 2ms/step - loss: 1.6366 - accuracy: 0.3579 - val_loss: 1.8585 - val_accuracy: 0.2456\n",
      "Epoch 30/50\n",
      "506/506 [==============================] - 1s 2ms/step - loss: 1.6331 - accuracy: 0.3607 - val_loss: 1.8570 - val_accuracy: 0.2209\n",
      "Epoch 31/50\n",
      "506/506 [==============================] - 1s 2ms/step - loss: 1.6297 - accuracy: 0.3633 - val_loss: 1.8541 - val_accuracy: 0.2230\n",
      "Epoch 32/50\n",
      "506/506 [==============================] - 1s 2ms/step - loss: 1.6264 - accuracy: 0.3648 - val_loss: 1.8520 - val_accuracy: 0.2349\n",
      "Epoch 33/50\n",
      "506/506 [==============================] - 1s 2ms/step - loss: 1.6232 - accuracy: 0.3633 - val_loss: 1.8495 - val_accuracy: 0.2331\n",
      "Epoch 34/50\n",
      "506/506 [==============================] - 1s 2ms/step - loss: 1.6200 - accuracy: 0.3642 - val_loss: 1.8488 - val_accuracy: 0.2375\n",
      "Epoch 35/50\n",
      "506/506 [==============================] - 1s 2ms/step - loss: 1.6170 - accuracy: 0.3696 - val_loss: 1.8460 - val_accuracy: 0.2537\n",
      "Epoch 36/50\n",
      "506/506 [==============================] - 1s 2ms/step - loss: 1.6139 - accuracy: 0.3694 - val_loss: 1.8439 - val_accuracy: 0.2517\n",
      "Epoch 37/50\n",
      "506/506 [==============================] - 1s 2ms/step - loss: 1.6108 - accuracy: 0.3717 - val_loss: 1.8417 - val_accuracy: 0.2534\n",
      "Epoch 38/50\n",
      "506/506 [==============================] - 1s 2ms/step - loss: 1.6079 - accuracy: 0.3724 - val_loss: 1.8409 - val_accuracy: 0.2342\n",
      "Epoch 39/50\n",
      "506/506 [==============================] - 1s 2ms/step - loss: 1.6049 - accuracy: 0.3715 - val_loss: 1.8396 - val_accuracy: 0.2440\n",
      "Epoch 40/50\n",
      "506/506 [==============================] - 1s 2ms/step - loss: 1.6018 - accuracy: 0.3730 - val_loss: 1.8396 - val_accuracy: 0.2613\n",
      "Epoch 41/50\n",
      "506/506 [==============================] - 1s 2ms/step - loss: 1.5990 - accuracy: 0.3749 - val_loss: 1.8391 - val_accuracy: 0.2473\n",
      "Epoch 42/50\n",
      "506/506 [==============================] - 1s 2ms/step - loss: 1.5960 - accuracy: 0.3745 - val_loss: 1.8385 - val_accuracy: 0.2417\n",
      "Epoch 43/50\n",
      "506/506 [==============================] - 1s 2ms/step - loss: 1.5933 - accuracy: 0.3759 - val_loss: 1.8378 - val_accuracy: 0.2385\n",
      "Epoch 44/50\n",
      "506/506 [==============================] - 1s 2ms/step - loss: 1.5904 - accuracy: 0.3773 - val_loss: 1.8374 - val_accuracy: 0.2572\n",
      "Epoch 45/50\n",
      "506/506 [==============================] - 1s 2ms/step - loss: 1.5876 - accuracy: 0.3780 - val_loss: 1.8360 - val_accuracy: 0.2575\n",
      "Epoch 46/50\n",
      "506/506 [==============================] - 1s 2ms/step - loss: 1.5849 - accuracy: 0.3799 - val_loss: 1.8377 - val_accuracy: 0.2362\n",
      "Epoch 47/50\n",
      "506/506 [==============================] - 1s 2ms/step - loss: 1.5820 - accuracy: 0.3795 - val_loss: 1.8367 - val_accuracy: 0.2430\n",
      "Epoch 48/50\n",
      "506/506 [==============================] - 1s 2ms/step - loss: 1.5793 - accuracy: 0.3808 - val_loss: 1.8368 - val_accuracy: 0.2532\n",
      "Epoch 49/50\n",
      "506/506 [==============================] - 1s 2ms/step - loss: 1.5764 - accuracy: 0.3827 - val_loss: 1.8372 - val_accuracy: 0.2400\n",
      "Epoch 50/50\n",
      "506/506 [==============================] - 1s 2ms/step - loss: 1.5734 - accuracy: 0.3824 - val_loss: 1.8367 - val_accuracy: 0.2478\n"
     ]
    },
    {
     "data": {
      "image/png": "[encoded data removed]",
      "text/plain": [
       "<Figure size 720x360 with 1 Axes>"
      ]
     },
     "metadata": {
      "needs_background": "light"
     },
     "output_type": "display_data"
    }
   ],
   "source": [
    "history = model.fit(x_train, y_train, epochs=50, validation_data=(x_test, y_test))\n",
    "\n",
    "pd.DataFrame(history.history).plot(figsize=(10, 5))\n",
    "plt.grid(True)\n",
    "plt.gca().set_ylim(0, 2)\n",
    "plt.show()"
   ]
  },
  {
   "cell_type": "code",
   "execution_count": 11,
   "metadata": {},
   "outputs": [
    {
     "name": "stdout",
     "output_type": "stream",
     "text": [
      "190/190 [==============================] - 0s 1ms/step - loss: 1.8367 - accuracy: 0.2478\n",
      "Test Score: 1.8366857767105103\n",
      "Test Accuracy: 0.24777300655841827\n"
     ]
    },
    {
     "name": "stderr",
     "output_type": "stream",
     "text": [
      "100%|██████████| 6062/6062 [04:43<00:00, 21.38it/s]"
     ]
    },
    {
     "name": "stdout",
     "output_type": "stream",
     "text": [
      "Accuracy: 0.25\n",
      "              precision    recall  f1-score   support\n",
      "\n",
      "           0       0.28      0.42      0.34       866\n",
      "           1       0.23      0.25      0.24       866\n",
      "           2       0.18      0.18      0.18       866\n",
      "           3       0.19      0.07      0.11       866\n",
      "           4       0.28      0.44      0.34       866\n",
      "           5       0.29      0.20      0.23       866\n",
      "           6       0.23      0.17      0.20       866\n",
      "\n",
      "    accuracy                           0.25      6062\n",
      "   macro avg       0.24      0.25      0.23      6062\n",
      "weighted avg       0.24      0.25      0.23      6062\n",
      "\n"
     ]
    },
    {
     "name": "stderr",
     "output_type": "stream",
     "text": [
      "\n"
     ]
    }
   ],
   "source": [
    "score = model.evaluate(x_test, y_test, verbose=1)\n",
    "\n",
    "print(\"Test Score:\", score[0])\n",
    "print(\"Test Accuracy:\", score[1])\n",
    "\n",
    "y_predict = []\n",
    "for features in tqdm(x_test):\n",
    "    features = features.reshape(1, -1)\n",
    "    value_prob = model.predict(features)\n",
    "    value = np.argmax(value_prob, axis=1)\n",
    "    y_predict.append(value)\n",
    "\n",
    "accuracy_predict = accuracy_score(y_test, y_predict)\n",
    "print('Accuracy: {0}'.format(round(np.mean(accuracy_predict), 2)))\n",
    "print(classification_report(y_test, y_predict))"
   ]
  },
  {
   "cell_type": "code",
   "execution_count": null,
   "metadata": {},
   "outputs": [],
   "source": []
  }
 ],
 "metadata": {
  "interpreter": {
   "hash": "52a7b0aa387bd80d697a7b73cc308a7ffd2c74592033bbdab1c5153e6edb5c6c"
  },
  "kernelspec": {
   "display_name": "Python 3.8.13 ('AI')",
   "language": "python",
   "name": "python3"
  },
  "language_info": {
   "codemirror_mode": {
    "name": "ipython",
    "version": 3
   },
   "file_extension": ".py",
   "mimetype": "text/x-python",
   "name": "python",
   "nbconvert_exporter": "python",
   "pygments_lexer": "ipython3",
   "version": "3.8.13"
  }
 },
 "nbformat": 4,
 "nbformat_minor": 4
}
