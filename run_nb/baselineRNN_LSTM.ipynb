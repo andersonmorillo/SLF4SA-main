{
 "cells": [
  {
   "cell_type": "code",
   "execution_count": 44,
   "metadata": {},
   "outputs": [],
   "source": [
    "import io\n",
    "import sys\n",
    "PATH = 'D:/Anderson/Downloads/SLF4SA-main/'\n",
    "DIR_DATA = 'D:/Anderson/Downloads/SLF4SA-main/data/input/'\n",
    "sys.path.append(PATH) if PATH not in list(sys.path) else None\n",
    "import os\n",
    "import tensorflow as tf\n",
    "import pandas as pd\n",
    "import numpy as np\n",
    "import seaborn as sns\n",
    "from tqdm import tqdm\n",
    "import plotly.express as px\n",
    "import matplotlib.pyplot as plt\n",
    "from collections import Counter\n",
    "from sklearn import preprocessing\n",
    "\n",
    "#new libraries\n",
    "\n",
    "\n",
    "from sklearn.pipeline import FeatureUnion\n",
    "from tensorflow import keras\n",
    "from keras.layers import Dense\n",
    "from keras.models import Sequential\n",
    "from sklearn.model_selection import RepeatedKFold\n",
    "from sklearn.preprocessing import LabelEncoder, StandardScaler\n",
    "\n",
    "from tensorflow.keras.models import Sequential\n",
    "from tensorflow.keras.layers import Dense, Dropout, LSTM, Embedding, Conv1D, Dropout, MaxPooling1D\n",
    "from tensorflow.keras.preprocessing.text import Tokenizer\n",
    "from tensorflow.keras.preprocessing.sequence import pad_sequences\n",
    "\n",
    "from sklearn.metrics import plot_confusion_matrix\n",
    "from sklearn.feature_selection import SelectKBest, chi2, mutual_info_classif\n",
    "from sklearn.model_selection import StratifiedShuffleSplit, cross_val_score\n",
    "from imblearn.over_sampling import RandomOverSampler, SMOTE\n",
    "from sklearn.feature_extraction.text import CountVectorizer, TfidfVectorizer\n",
    "from sklearn.model_selection import train_test_split, cross_val_score, ShuffleSplit\n",
    "from sklearn.metrics import mean_squared_error, r2_score\n",
    "from sklearn.metrics import classification_report, confusion_matrix, recall_score, log_loss\n",
    "from sklearn.metrics import f1_score, accuracy_score, precision_score\n",
    "\n",
    "from logic.utils import Utils\n",
    "from logic.classifiers import Classifiers\n",
    "from logic.text_processing import TextProcessing\n",
    "from logic.lexical_vectorizer import LexicalVectorizer\n",
    "from root import DIR_RESULTS"
   ]
  },
  {
   "cell_type": "markdown",
   "metadata": {},
   "source": [
    "# Variable initialization "
   ]
  },
  {
   "cell_type": "code",
   "execution_count": 45,
   "metadata": {},
   "outputs": [],
   "source": [
    "lang = 'es'\n",
    "iteration = 10\n",
    "fold = 10\n",
    "classifiers = Classifiers.dict_classifiers\n",
    "tp = TextProcessing(lang=lang)\n",
    "lv = LexicalVectorizer(lang=lang, text_processing=tp)\n",
    "ut = Utils(lang=lang, text_processing=tp)"
   ]
  },
  {
   "cell_type": "markdown",
   "metadata": {},
   "source": [
    "# Import data"
   ]
  },
  {
   "cell_type": "code",
   "execution_count": 46,
   "metadata": {},
   "outputs": [
    {
     "name": "stdout",
     "output_type": "stream",
     "text": [
      "+ Import training...\n",
      "\t\t - Dataset size :(x: 5886 , y: 5886)\n",
      "+ Import test...\n",
      "\t\t - Dataset size :(x: 857 , y: 857)\n"
     ]
    }
   ],
   "source": [
    "print('+ Import training...')\n",
    "x, y = ut.get_data(file_name='tass2020_emotion_train')\n",
    "print('+ Import test...')\n",
    "x_eval, y_eval = ut.get_data(file_name='tass2020_emotion_dev')"
   ]
  },
  {
   "cell_type": "code",
   "execution_count": null,
   "metadata": {},
   "outputs": [],
   "source": []
  },
  {
   "cell_type": "code",
   "execution_count": 47,
   "metadata": {},
   "outputs": [],
   "source": [
    "VOCABULARY_SIZE = 22000\n",
    "EMBEDDING_DIM = 32\n",
    "MAX_LENGTH = 80\n",
    "PADDING_TYPE = \"post\"\n",
    "TRUNC_TYPE = \"post\"\n",
    "\n",
    "tokenizer = Tokenizer(num_words = VOCABULARY_SIZE)\n",
    "\n",
    "lb = LabelEncoder()\n",
    "y = lb.fit_transform([i.rstrip() for i in y])\n",
    "y_eval = lb.transform([i.rstrip() for i in y_eval])\n",
    "\n",
    "x_train, x_test, y_train, y_test = train_test_split(x, y, test_size=.3, random_state=42)\n",
    "\n",
    "\n",
    "tokenizer.fit_on_texts(x_train)\n",
    "tokenizer.fit_on_texts(x_test)\n",
    "tokenizer.fit_on_texts(x_eval)\n",
    "\n",
    "word_index = tokenizer.word_index\n",
    "train_sequences = tokenizer.texts_to_sequences(x_train)\n",
    "validation_sequences = tokenizer.texts_to_sequences(x_eval)\n",
    "test_sequences = tokenizer.texts_to_sequences(x_test)\n",
    "\n",
    "train_padded = pad_sequences(train_sequences, maxlen = MAX_LENGTH, padding = PADDING_TYPE, truncating = TRUNC_TYPE)\n",
    "validation_padded = pad_sequences(validation_sequences, maxlen = MAX_LENGTH, padding = PADDING_TYPE, truncating = TRUNC_TYPE)\n",
    "test_padded = pad_sequences(test_sequences, maxlen = MAX_LENGTH, padding = PADDING_TYPE, truncating = TRUNC_TYPE)"
   ]
  },
  {
   "cell_type": "code",
   "execution_count": 48,
   "metadata": {},
   "outputs": [
    {
     "name": "stdout",
     "output_type": "stream",
     "text": [
      "- train:\n",
      " [(0, 437), (1, 92), (2, 49), (3, 866), (4, 2023), (5, 495), (6, 158)]\n",
      "- test:\n",
      " [(0, 163), (1, 21), (2, 18), (3, 404), (4, 866), (5, 211), (6, 83)]\n"
     ]
    }
   ],
   "source": [
    "#k_fold = ShuffleSplit(n_splits=fold, test_size=0.25, random_state=42)\n",
    "\n",
    "\n",
    "#ros_train = RandomOverSampler(random_state=1000)\n",
    "#train_padded, y_train = ros_train.fit_resample(train_padded, y_train)\n",
    "#test_padded, y_test = ros_train.fit_resample(test_padded, y_test)\n",
    "print('- train:\\n', sorted(Counter(y_train).items()))\n",
    "print('- test:\\n', sorted(Counter(y_test).items()))"
   ]
  },
  {
   "cell_type": "markdown",
   "metadata": {},
   "source": [
    "# Feature extraction"
   ]
  },
  {
   "cell_type": "markdown",
   "metadata": {},
   "source": [
    "# NN Architecture"
   ]
  },
  {
   "cell_type": "code",
   "execution_count": 49,
   "metadata": {},
   "outputs": [],
   "source": [
    "OUTPUT_SHAPE = len(set(y_train))"
   ]
  },
  {
   "cell_type": "code",
   "execution_count": 50,
   "metadata": {},
   "outputs": [],
   "source": [
    "\n",
    "tf.keras.backend.clear_session()\n",
    "\n",
    "\n",
    "model = Sequential([\n",
    "        Embedding(VOCABULARY_SIZE, EMBEDDING_DIM, input_length = MAX_LENGTH),\n",
    "        Dropout(0.2),\n",
    "        Conv1D(filters = 256, kernel_size = 3, activation = \"relu\"),\n",
    "        MaxPooling1D(pool_size = 3),\n",
    "        Conv1D(filters = 128, kernel_size = 3, activation = \"relu\"),\n",
    "        MaxPooling1D(pool_size = 3),\n",
    "        LSTM(128),\n",
    "        Dense(128, activation = \"relu\"),\n",
    "        Dropout(0.2),\n",
    "        Dense(64, activation = \"relu\"),\n",
    "        Dense(OUTPUT_SHAPE, activation = \"softmax\")\n",
    "])"
   ]
  },
  {
   "cell_type": "code",
   "execution_count": 51,
   "metadata": {},
   "outputs": [
    {
     "name": "stdout",
     "output_type": "stream",
     "text": [
      "Model: \"sequential\"\n",
      "_________________________________________________________________\n",
      " Layer (type)                Output Shape              Param #   \n",
      "=================================================================\n",
      " embedding (Embedding)       (None, 80, 32)            704000    \n",
      "                                                                 \n",
      " dropout (Dropout)           (None, 80, 32)            0         \n",
      "                                                                 \n",
      " conv1d (Conv1D)             (None, 78, 256)           24832     \n",
      "                                                                 \n",
      " max_pooling1d (MaxPooling1D  (None, 26, 256)          0         \n",
      " )                                                               \n",
      "                                                                 \n",
      " conv1d_1 (Conv1D)           (None, 24, 128)           98432     \n",
      "                                                                 \n",
      " max_pooling1d_1 (MaxPooling  (None, 8, 128)           0         \n",
      " 1D)                                                             \n",
      "                                                                 \n",
      " lstm (LSTM)                 (None, 128)               131584    \n",
      "                                                                 \n",
      " dense (Dense)               (None, 128)               16512     \n",
      "                                                                 \n",
      " dropout_1 (Dropout)         (None, 128)               0         \n",
      "                                                                 \n",
      " dense_1 (Dense)             (None, 64)                8256      \n",
      "                                                                 \n",
      " dense_2 (Dense)             (None, 7)                 455       \n",
      "                                                                 \n",
      "=================================================================\n",
      "Total params: 984,071\n",
      "Trainable params: 984,071\n",
      "Non-trainable params: 0\n",
      "_________________________________________________________________\n"
     ]
    }
   ],
   "source": [
    "model.summary()"
   ]
  },
  {
   "cell_type": "markdown",
   "metadata": {},
   "source": [
    "# Training"
   ]
  },
  {
   "cell_type": "code",
   "execution_count": 52,
   "metadata": {},
   "outputs": [],
   "source": [
    "OPTIMIZER = tf.keras.optimizers.Adam(learning_rate = 0.0001)\n",
    "model.compile(loss = \"sparse_categorical_crossentropy\",\n",
    "              optimizer = OPTIMIZER,\n",
    "              metrics = [\"accuracy\"])"
   ]
  },
  {
   "cell_type": "code",
   "execution_count": 53,
   "metadata": {},
   "outputs": [
    {
     "name": "stdout",
     "output_type": "stream",
     "text": [
      "Epoch 1/15\n",
      "65/65 [==============================] - 5s 46ms/step - loss: 1.7559 - accuracy: 0.4794 - val_loss: 1.4850 - val_accuracy: 0.4904\n",
      "Epoch 2/15\n",
      "65/65 [==============================] - 2s 36ms/step - loss: 1.4727 - accuracy: 0.4908 - val_loss: 1.4310 - val_accuracy: 0.4904\n",
      "Epoch 3/15\n",
      "65/65 [==============================] - 2s 36ms/step - loss: 1.4451 - accuracy: 0.4908 - val_loss: 1.4137 - val_accuracy: 0.4904\n",
      "Epoch 4/15\n",
      "65/65 [==============================] - 2s 38ms/step - loss: 1.4358 - accuracy: 0.4908 - val_loss: 1.4262 - val_accuracy: 0.4904\n",
      "Epoch 5/15\n",
      "65/65 [==============================] - 2s 38ms/step - loss: 1.4325 - accuracy: 0.4910 - val_loss: 1.4246 - val_accuracy: 0.4904\n",
      "Epoch 6/15\n",
      "65/65 [==============================] - 3s 42ms/step - loss: 1.4245 - accuracy: 0.4910 - val_loss: 1.4060 - val_accuracy: 0.4904\n",
      "Epoch 7/15\n",
      "65/65 [==============================] - 3s 40ms/step - loss: 1.4050 - accuracy: 0.4925 - val_loss: 1.3832 - val_accuracy: 0.5006\n",
      "Epoch 8/15\n",
      "65/65 [==============================] - 3s 39ms/step - loss: 1.3418 - accuracy: 0.5158 - val_loss: 1.3043 - val_accuracy: 0.5193\n",
      "Epoch 9/15\n",
      "65/65 [==============================] - 3s 39ms/step - loss: 1.2031 - accuracy: 0.5522 - val_loss: 1.3258 - val_accuracy: 0.5017\n",
      "Epoch 10/15\n",
      "65/65 [==============================] - 3s 42ms/step - loss: 1.0834 - accuracy: 0.5791 - val_loss: 1.2755 - val_accuracy: 0.5277\n",
      "Epoch 11/15\n",
      "65/65 [==============================] - 3s 42ms/step - loss: 1.0155 - accuracy: 0.6066 - val_loss: 1.3333 - val_accuracy: 0.4881\n",
      "Epoch 12/15\n",
      "65/65 [==============================] - 3s 39ms/step - loss: 0.9485 - accuracy: 0.6396 - val_loss: 1.3315 - val_accuracy: 0.4904\n",
      "Epoch 13/15\n",
      "65/65 [==============================] - 3s 44ms/step - loss: 0.8893 - accuracy: 0.6624 - val_loss: 1.3977 - val_accuracy: 0.4304\n",
      "Epoch 14/15\n",
      "65/65 [==============================] - 3s 41ms/step - loss: 0.8387 - accuracy: 0.6915 - val_loss: 1.4342 - val_accuracy: 0.4547\n",
      "Epoch 15/15\n",
      "65/65 [==============================] - 3s 43ms/step - loss: 0.7860 - accuracy: 0.7199 - val_loss: 1.4945 - val_accuracy: 0.4173\n"
     ]
    }
   ],
   "source": [
    "history = model.fit(train_padded, y_train,\n",
    "                    epochs = 15,\n",
    "                    validation_data = (test_padded, y_test),\n",
    "                    batch_size = 64)"
   ]
  },
  {
   "cell_type": "markdown",
   "metadata": {},
   "source": [
    "# Result"
   ]
  },
  {
   "cell_type": "code",
   "execution_count": 54,
   "metadata": {},
   "outputs": [
    {
     "data": {
      "image/png": "[encoded data removed]",
      "text/plain": [
       "<Figure size 864x360 with 1 Axes>"
      ]
     },
     "metadata": {
      "needs_background": "light"
     },
     "output_type": "display_data"
    }
   ],
   "source": [
    "pd.DataFrame(history.history).plot(figsize=(12, 5))\n",
    "plt.grid(True)\n",
    "plt.gca().set_ylim(0, 2)\n",
    "plt.show()"
   ]
  },
  {
   "cell_type": "code",
   "execution_count": 55,
   "metadata": {},
   "outputs": [
    {
     "name": "stdout",
     "output_type": "stream",
     "text": [
      "27/27 [==============================] - 1s 7ms/step - loss: 1.4587 - accuracy: 0.4271\n"
     ]
    }
   ],
   "source": [
    "loss, accuracy = model.evaluate(validation_padded, y_eval)"
   ]
  },
  {
   "cell_type": "code",
   "execution_count": 56,
   "metadata": {},
   "outputs": [
    {
     "name": "stdout",
     "output_type": "stream",
     "text": [
      "Model accuracy is 42.70711839199066%\n"
     ]
    }
   ],
   "source": [
    "print(f\"Model accuracy is {accuracy * 100}%\")"
   ]
  },
  {
   "cell_type": "code",
   "execution_count": 57,
   "metadata": {},
   "outputs": [
    {
     "data": {
      "image/png": "[encoded data removed]",
      "text/plain": [
       "<Figure size 432x360 with 2 Axes>"
      ]
     },
     "metadata": {
      "needs_background": "light"
     },
     "output_type": "display_data"
    }
   ],
   "source": [
    "#cambiar el modelo para que funcione mediante el tokenizador correctamente\n",
    "predicted_proba = np.argmax(model.predict(validation_padded), axis =-1)\n",
    "confusion_matrix = tf.math.confusion_matrix(y_eval, predicted_proba).numpy()\n",
    "figure = plt.figure(figsize = (6, 5))\n",
    "sns.heatmap(confusion_matrix, annot = True, fmt = \".0f\", cmap = plt.cm.Blues)\n",
    "plt.tight_layout()\n",
    "plt.ylabel(\"Actual class\")\n",
    "plt.xlabel(\"Predicted class\")\n",
    "plt.title(\"Confusion Matrix of classified emotions\")\n",
    "plt.show()"
   ]
  }
 ],
 "metadata": {
  "interpreter": {
   "hash": "52a7b0aa387bd80d697a7b73cc308a7ffd2c74592033bbdab1c5153e6edb5c6c"
  },
  "kernelspec": {
   "display_name": "Python 3.8.13 ('AI')",
   "language": "python",
   "name": "python3"
  },
  "language_info": {
   "codemirror_mode": {
    "name": "ipython",
    "version": 3
   },
   "file_extension": ".py",
   "mimetype": "text/x-python",
   "name": "python",
   "nbconvert_exporter": "python",
   "pygments_lexer": "ipython3",
   "version": "3.8.13"
  }
 },
 "nbformat": 4,
 "nbformat_minor": 4
}
