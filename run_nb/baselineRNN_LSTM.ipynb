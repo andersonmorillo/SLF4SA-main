{
 "cells": [
  {
   "cell_type": "code",
   "execution_count": 1,
   "metadata": {},
   "outputs": [],
   "source": [
    "import io\n",
    "import sys\n",
    "PATH = 'D:/Anderson/Downloads/SLF4SA-main/'\n",
    "DIR_DATA = 'D:/Anderson/Downloads/SLF4SA-main/data/input/'\n",
    "sys.path.append(PATH) if PATH not in list(sys.path) else None\n",
    "import os\n",
    "import tensorflow as tf\n",
    "import pandas as pd\n",
    "import numpy as np\n",
    "import seaborn as sns\n",
    "from tqdm import tqdm\n",
    "import plotly.express as px\n",
    "import matplotlib.pyplot as plt\n",
    "from collections import Counter\n",
    "from sklearn import preprocessing\n",
    "\n",
    "#new libraries\n",
    "\n",
    "\n",
    "from sklearn.pipeline import FeatureUnion\n",
    "from tensorflow import keras\n",
    "from keras.layers import Dense\n",
    "from keras.models import Sequential\n",
    "from sklearn.model_selection import RepeatedKFold\n",
    "from sklearn.preprocessing import LabelEncoder, StandardScaler\n",
    "\n",
    "from tensorflow.keras.models import Sequential\n",
    "from tensorflow.keras.layers import Dense, Dropout, LSTM, Embedding, Conv1D, Dropout, MaxPooling1D\n",
    "from tensorflow.keras.preprocessing.text import Tokenizer\n",
    "from tensorflow.keras.preprocessing.sequence import pad_sequences\n",
    "\n",
    "from sklearn.metrics import plot_confusion_matrix\n",
    "from sklearn.feature_selection import SelectKBest, chi2, mutual_info_classif\n",
    "from sklearn.model_selection import StratifiedShuffleSplit, cross_val_score\n",
    "from imblearn.over_sampling import RandomOverSampler\n",
    "from sklearn.feature_extraction.text import CountVectorizer, TfidfVectorizer\n",
    "from sklearn.model_selection import train_test_split, cross_val_score, ShuffleSplit\n",
    "from sklearn.metrics import mean_squared_error, r2_score\n",
    "from sklearn.metrics import classification_report, confusion_matrix, recall_score, log_loss\n",
    "from sklearn.metrics import f1_score, accuracy_score, precision_score\n",
    "\n",
    "from logic.utils import Utils\n",
    "from logic.classifiers import Classifiers\n",
    "from logic.text_processing import TextProcessing\n",
    "from logic.lexical_vectorizer import LexicalVectorizer\n",
    "from root import DIR_RESULTS"
   ]
  },
  {
   "cell_type": "markdown",
   "metadata": {},
   "source": [
    "# Variable initialization "
   ]
  },
  {
   "cell_type": "code",
   "execution_count": 2,
   "metadata": {},
   "outputs": [],
   "source": [
    "lang = 'es'\n",
    "iteration = 10\n",
    "fold = 10\n",
    "classifiers = Classifiers.dict_classifiers\n",
    "tp = TextProcessing(lang=lang)\n",
    "lv = LexicalVectorizer(lang=lang, text_processing=tp)\n",
    "ut = Utils(lang=lang, text_processing=tp)"
   ]
  },
  {
   "cell_type": "markdown",
   "metadata": {},
   "source": [
    "# Import data"
   ]
  },
  {
   "cell_type": "code",
   "execution_count": 3,
   "metadata": {},
   "outputs": [
    {
     "name": "stdout",
     "output_type": "stream",
     "text": [
      "+ Import training...\n",
      "\t\t - Dataset size :(x: 5886 , y: 5886)\n",
      "+ Import test...\n",
      "\t\t - Dataset size :(x: 857 , y: 857)\n"
     ]
    }
   ],
   "source": [
    "print('+ Import training...')\n",
    "x, y = ut.get_data(file_name='tass2020_emotion_train')\n",
    "print('+ Import test...')\n",
    "x_eval, y_eval = ut.get_data(file_name='tass2020_emotion_dev')"
   ]
  },
  {
   "cell_type": "code",
   "execution_count": null,
   "metadata": {},
   "outputs": [],
   "source": []
  },
  {
   "cell_type": "code",
   "execution_count": 4,
   "metadata": {},
   "outputs": [
    {
     "name": "stdout",
     "output_type": "stream",
     "text": [
      "- train:\n",
      " [(0, 437), (1, 92), (2, 49), (3, 866), (4, 2023), (5, 495), (6, 158)]\n",
      "- test:\n",
      " [(0, 163), (1, 21), (2, 18), (3, 404), (4, 866), (5, 211), (6, 83)]\n"
     ]
    }
   ],
   "source": [
    "\n",
    "lb = LabelEncoder()\n",
    "y = lb.fit_transform([i.rstrip() for i in y])\n",
    "y_eval = lb.transform([i.rstrip() for i in y_eval])\n",
    "\n",
    "#k_fold = ShuffleSplit(n_splits=fold, test_size=0.25, random_state=42)\n",
    "\n",
    "x_train, x_test, y_train, y_test = train_test_split(x, y, test_size=.3, random_state=42)\n",
    "#ros_train = RandomOverSampler(random_state=1000)\n",
    "#x_train, y_train = ros_train.fit_resample(x_train, y_train)\n",
    "#x_test, y_test = ros_train.fit_resample(x_test, y_test)\n",
    "print('- train:\\n', sorted(Counter(y_train).items()))\n",
    "print('- test:\\n', sorted(Counter(y_test).items()))"
   ]
  },
  {
   "cell_type": "markdown",
   "metadata": {},
   "source": [
    "# Feature extraction"
   ]
  },
  {
   "cell_type": "code",
   "execution_count": 5,
   "metadata": {},
   "outputs": [],
   "source": [
    "VOCABULARY_SIZE = 19000\n",
    "EMBEDDING_DIM = 32\n",
    "MAX_LENGTH = 80\n",
    "PADDING_TYPE = \"post\"\n",
    "TRUNC_TYPE = \"post\""
   ]
  },
  {
   "cell_type": "code",
   "execution_count": 6,
   "metadata": {},
   "outputs": [],
   "source": [
    "tokenizer = Tokenizer(num_words = VOCABULARY_SIZE)"
   ]
  },
  {
   "cell_type": "code",
   "execution_count": 7,
   "metadata": {},
   "outputs": [],
   "source": [
    "tokenizer.fit_on_texts(x_train)\n",
    "tokenizer.fit_on_texts(x_test)\n",
    "tokenizer.fit_on_texts(x_eval)"
   ]
  },
  {
   "cell_type": "code",
   "execution_count": 8,
   "metadata": {},
   "outputs": [],
   "source": [
    "word_index = tokenizer.word_index\n",
    "train_sequences = tokenizer.texts_to_sequences(x)\n",
    "validation_sequences = tokenizer.texts_to_sequences(x_eval)\n",
    "test_sequences = tokenizer.texts_to_sequences(x_test)"
   ]
  },
  {
   "cell_type": "code",
   "execution_count": 9,
   "metadata": {},
   "outputs": [],
   "source": [
    "train_padded = pad_sequences(train_sequences, maxlen = MAX_LENGTH, padding = PADDING_TYPE, truncating = TRUNC_TYPE)\n",
    "validation_padded = pad_sequences(validation_sequences, maxlen = MAX_LENGTH, padding = PADDING_TYPE, truncating = TRUNC_TYPE)\n",
    "test_padded = pad_sequences(test_sequences, maxlen = MAX_LENGTH, padding = PADDING_TYPE, truncating = TRUNC_TYPE)"
   ]
  },
  {
   "cell_type": "markdown",
   "metadata": {},
   "source": [
    "# NN Architecture"
   ]
  },
  {
   "cell_type": "code",
   "execution_count": 10,
   "metadata": {},
   "outputs": [],
   "source": [
    "OUTPUT_SHAPE = len(set(y_train))"
   ]
  },
  {
   "cell_type": "code",
   "execution_count": 11,
   "metadata": {},
   "outputs": [],
   "source": [
    "tf.keras.backend.clear_session()\n",
    "\n",
    "model = Sequential([\n",
    "        Embedding(VOCABULARY_SIZE, EMBEDDING_DIM, input_length = MAX_LENGTH),\n",
    "        Dropout(0.2),\n",
    "        Conv1D(filters = 256, kernel_size = 3, activation = \"relu\"),\n",
    "        MaxPooling1D(pool_size = 3),\n",
    "        Conv1D(filters = 128, kernel_size = 3, activation = \"relu\"),\n",
    "        MaxPooling1D(pool_size = 3),\n",
    "        LSTM(128),\n",
    "        Dense(128, activation = \"relu\"),\n",
    "        Dropout(0.2),\n",
    "        Dense(64, activation = \"relu\"),\n",
    "        Dense(OUTPUT_SHAPE, activation = \"softmax\")\n",
    "])"
   ]
  },
  {
   "cell_type": "code",
   "execution_count": 12,
   "metadata": {},
   "outputs": [
    {
     "name": "stdout",
     "output_type": "stream",
     "text": [
      "Model: \"sequential\"\n",
      "_________________________________________________________________\n",
      " Layer (type)                Output Shape              Param #   \n",
      "=================================================================\n",
      " embedding (Embedding)       (None, 80, 32)            608000    \n",
      "                                                                 \n",
      " dropout (Dropout)           (None, 80, 32)            0         \n",
      "                                                                 \n",
      " conv1d (Conv1D)             (None, 78, 256)           24832     \n",
      "                                                                 \n",
      " max_pooling1d (MaxPooling1D  (None, 26, 256)          0         \n",
      " )                                                               \n",
      "                                                                 \n",
      " conv1d_1 (Conv1D)           (None, 24, 128)           98432     \n",
      "                                                                 \n",
      " max_pooling1d_1 (MaxPooling  (None, 8, 128)           0         \n",
      " 1D)                                                             \n",
      "                                                                 \n",
      " lstm (LSTM)                 (None, 128)               131584    \n",
      "                                                                 \n",
      " dense (Dense)               (None, 128)               16512     \n",
      "                                                                 \n",
      " dropout_1 (Dropout)         (None, 128)               0         \n",
      "                                                                 \n",
      " dense_1 (Dense)             (None, 64)                8256      \n",
      "                                                                 \n",
      " dense_2 (Dense)             (None, 7)                 455       \n",
      "                                                                 \n",
      "=================================================================\n",
      "Total params: 888,071\n",
      "Trainable params: 888,071\n",
      "Non-trainable params: 0\n",
      "_________________________________________________________________\n"
     ]
    }
   ],
   "source": [
    "model.summary()"
   ]
  },
  {
   "cell_type": "markdown",
   "metadata": {},
   "source": [
    "# Training"
   ]
  },
  {
   "cell_type": "code",
   "execution_count": 13,
   "metadata": {},
   "outputs": [],
   "source": [
    "OPTIMIZER = tf.keras.optimizers.Adam(learning_rate = 0.0001)\n",
    "model.compile(loss = \"sparse_categorical_crossentropy\",\n",
    "              optimizer = OPTIMIZER,\n",
    "              metrics = [\"accuracy\"])"
   ]
  },
  {
   "cell_type": "code",
   "execution_count": 14,
   "metadata": {},
   "outputs": [
    {
     "name": "stdout",
     "output_type": "stream",
     "text": [
      "Epoch 1/50\n",
      "92/92 [==============================] - 8s 47ms/step - loss: 1.7085 - accuracy: 0.4642 - val_loss: 1.4729 - val_accuracy: 0.4912\n",
      "Epoch 2/50\n",
      "92/92 [==============================] - 4s 42ms/step - loss: 1.4397 - accuracy: 0.4908 - val_loss: 1.4362 - val_accuracy: 0.4912\n",
      "Epoch 3/50\n",
      "92/92 [==============================] - 4s 43ms/step - loss: 1.4271 - accuracy: 0.4908 - val_loss: 1.4333 - val_accuracy: 0.4912\n",
      "Epoch 4/50\n",
      "92/92 [==============================] - 4s 39ms/step - loss: 1.4168 - accuracy: 0.4908 - val_loss: 1.4340 - val_accuracy: 0.4912\n",
      "Epoch 5/50\n",
      "92/92 [==============================] - 4s 41ms/step - loss: 1.3987 - accuracy: 0.4918 - val_loss: 1.3958 - val_accuracy: 0.5006\n",
      "Epoch 6/50\n",
      "92/92 [==============================] - 4s 40ms/step - loss: 1.3225 - accuracy: 0.5206 - val_loss: 1.3083 - val_accuracy: 0.5169\n",
      "Epoch 7/50\n",
      "92/92 [==============================] - 4s 39ms/step - loss: 1.1797 - accuracy: 0.5586 - val_loss: 1.2516 - val_accuracy: 0.5379\n",
      "Epoch 8/50\n",
      "92/92 [==============================] - 3s 37ms/step - loss: 1.0911 - accuracy: 0.5851 - val_loss: 1.2401 - val_accuracy: 0.5263\n",
      "Epoch 9/50\n",
      "92/92 [==============================] - 3s 38ms/step - loss: 1.0158 - accuracy: 0.6121 - val_loss: 1.2587 - val_accuracy: 0.4842\n",
      "Epoch 10/50\n",
      "92/92 [==============================] - 3s 37ms/step - loss: 0.9557 - accuracy: 0.6481 - val_loss: 1.2978 - val_accuracy: 0.4749\n",
      "Epoch 11/50\n",
      "92/92 [==============================] - 3s 38ms/step - loss: 0.9040 - accuracy: 0.6736 - val_loss: 1.3078 - val_accuracy: 0.4842\n",
      "Epoch 12/50\n",
      "92/92 [==============================] - 4s 38ms/step - loss: 0.8478 - accuracy: 0.7012 - val_loss: 1.3607 - val_accuracy: 0.4656\n",
      "Epoch 13/50\n",
      "92/92 [==============================] - 4s 38ms/step - loss: 0.8028 - accuracy: 0.7154 - val_loss: 1.4075 - val_accuracy: 0.4609\n",
      "Epoch 14/50\n",
      "92/92 [==============================] - 4s 40ms/step - loss: 0.7601 - accuracy: 0.7343 - val_loss: 1.4449 - val_accuracy: 0.4691\n",
      "Epoch 15/50\n",
      "92/92 [==============================] - 4s 40ms/step - loss: 0.7317 - accuracy: 0.7443 - val_loss: 1.4738 - val_accuracy: 0.4621\n",
      "Epoch 16/50\n",
      "92/92 [==============================] - 3s 38ms/step - loss: 0.7020 - accuracy: 0.7540 - val_loss: 1.5743 - val_accuracy: 0.4329\n",
      "Epoch 17/50\n",
      "92/92 [==============================] - 4s 39ms/step - loss: 0.6634 - accuracy: 0.7705 - val_loss: 1.5605 - val_accuracy: 0.4597\n",
      "Epoch 18/50\n",
      "92/92 [==============================] - 4s 40ms/step - loss: 0.6456 - accuracy: 0.7708 - val_loss: 1.5789 - val_accuracy: 0.4597\n",
      "Epoch 19/50\n",
      "92/92 [==============================] - 4s 38ms/step - loss: 0.6209 - accuracy: 0.7914 - val_loss: 1.6594 - val_accuracy: 0.4749\n",
      "Epoch 20/50\n",
      "92/92 [==============================] - 3s 38ms/step - loss: 0.5947 - accuracy: 0.7953 - val_loss: 1.6819 - val_accuracy: 0.4784\n",
      "Epoch 21/50\n",
      "92/92 [==============================] - 3s 38ms/step - loss: 0.5868 - accuracy: 0.8022 - val_loss: 1.6709 - val_accuracy: 0.4807\n",
      "Epoch 22/50\n",
      "92/92 [==============================] - 3s 38ms/step - loss: 0.5651 - accuracy: 0.8101 - val_loss: 1.7150 - val_accuracy: 0.4656\n",
      "Epoch 23/50\n",
      "92/92 [==============================] - 3s 38ms/step - loss: 0.5490 - accuracy: 0.8129 - val_loss: 1.7693 - val_accuracy: 0.4691\n",
      "Epoch 24/50\n",
      "92/92 [==============================] - 4s 39ms/step - loss: 0.5266 - accuracy: 0.8199 - val_loss: 1.8138 - val_accuracy: 0.4667\n",
      "Epoch 25/50\n",
      "92/92 [==============================] - 4s 42ms/step - loss: 0.5164 - accuracy: 0.8274 - val_loss: 1.8199 - val_accuracy: 0.4667\n",
      "Epoch 26/50\n",
      "92/92 [==============================] - 4s 39ms/step - loss: 0.5137 - accuracy: 0.8281 - val_loss: 1.8678 - val_accuracy: 0.4422\n",
      "Epoch 27/50\n",
      "92/92 [==============================] - 4s 38ms/step - loss: 0.4926 - accuracy: 0.8352 - val_loss: 1.8723 - val_accuracy: 0.4516\n",
      "Epoch 28/50\n",
      "92/92 [==============================] - 4s 41ms/step - loss: 0.4822 - accuracy: 0.8344 - val_loss: 1.9510 - val_accuracy: 0.4446\n",
      "Epoch 29/50\n",
      "92/92 [==============================] - 4s 42ms/step - loss: 0.4597 - accuracy: 0.8476 - val_loss: 1.9789 - val_accuracy: 0.4667\n",
      "Epoch 30/50\n",
      "92/92 [==============================] - 4s 45ms/step - loss: 0.4585 - accuracy: 0.8490 - val_loss: 1.9816 - val_accuracy: 0.4819\n",
      "Epoch 31/50\n",
      "92/92 [==============================] - 4s 41ms/step - loss: 0.4530 - accuracy: 0.8524 - val_loss: 2.0086 - val_accuracy: 0.4702\n",
      "Epoch 32/50\n",
      "92/92 [==============================] - 3s 36ms/step - loss: 0.4400 - accuracy: 0.8534 - val_loss: 2.0146 - val_accuracy: 0.4749\n",
      "Epoch 33/50\n",
      "92/92 [==============================] - 4s 42ms/step - loss: 0.4291 - accuracy: 0.8564 - val_loss: 2.0399 - val_accuracy: 0.4632\n",
      "Epoch 34/50\n",
      "92/92 [==============================] - 4s 40ms/step - loss: 0.4258 - accuracy: 0.8563 - val_loss: 2.1037 - val_accuracy: 0.4726\n",
      "Epoch 35/50\n",
      "92/92 [==============================] - 4s 38ms/step - loss: 0.4153 - accuracy: 0.8573 - val_loss: 2.1141 - val_accuracy: 0.4679\n",
      "Epoch 36/50\n",
      "92/92 [==============================] - 4s 38ms/step - loss: 0.4141 - accuracy: 0.8602 - val_loss: 2.1268 - val_accuracy: 0.4609\n",
      "Epoch 37/50\n",
      "92/92 [==============================] - 4s 39ms/step - loss: 0.3868 - accuracy: 0.8680 - val_loss: 2.2136 - val_accuracy: 0.4691\n",
      "Epoch 38/50\n",
      "92/92 [==============================] - 4s 41ms/step - loss: 0.3859 - accuracy: 0.8699 - val_loss: 2.2239 - val_accuracy: 0.4597\n",
      "Epoch 39/50\n",
      "92/92 [==============================] - 3s 37ms/step - loss: 0.3857 - accuracy: 0.8727 - val_loss: 2.2255 - val_accuracy: 0.4212\n",
      "Epoch 40/50\n",
      "92/92 [==============================] - 3s 37ms/step - loss: 0.3785 - accuracy: 0.8755 - val_loss: 2.2367 - val_accuracy: 0.4562\n",
      "Epoch 41/50\n",
      "92/92 [==============================] - 3s 37ms/step - loss: 0.3609 - accuracy: 0.8775 - val_loss: 2.2909 - val_accuracy: 0.4562\n",
      "Epoch 42/50\n",
      "92/92 [==============================] - 3s 37ms/step - loss: 0.3622 - accuracy: 0.8768 - val_loss: 2.3517 - val_accuracy: 0.4621\n",
      "Epoch 43/50\n",
      "92/92 [==============================] - 3s 37ms/step - loss: 0.3537 - accuracy: 0.8809 - val_loss: 2.2948 - val_accuracy: 0.4574\n",
      "Epoch 44/50\n",
      "92/92 [==============================] - 3s 37ms/step - loss: 0.3488 - accuracy: 0.8818 - val_loss: 2.3504 - val_accuracy: 0.4516\n",
      "Epoch 45/50\n",
      "92/92 [==============================] - 3s 36ms/step - loss: 0.3426 - accuracy: 0.8802 - val_loss: 2.3501 - val_accuracy: 0.4644\n",
      "Epoch 46/50\n",
      "92/92 [==============================] - 3s 37ms/step - loss: 0.3219 - accuracy: 0.8935 - val_loss: 2.4804 - val_accuracy: 0.4516\n",
      "Epoch 47/50\n",
      "92/92 [==============================] - 3s 37ms/step - loss: 0.3354 - accuracy: 0.8850 - val_loss: 2.4281 - val_accuracy: 0.4469\n",
      "Epoch 48/50\n",
      "92/92 [==============================] - 3s 37ms/step - loss: 0.3225 - accuracy: 0.8887 - val_loss: 2.4406 - val_accuracy: 0.4422\n",
      "Epoch 49/50\n",
      "92/92 [==============================] - 3s 37ms/step - loss: 0.3076 - accuracy: 0.8906 - val_loss: 2.5292 - val_accuracy: 0.4422\n",
      "Epoch 50/50\n",
      "92/92 [==============================] - 3s 36ms/step - loss: 0.3101 - accuracy: 0.8974 - val_loss: 2.5215 - val_accuracy: 0.4282\n"
     ]
    }
   ],
   "source": [
    "history = model.fit(train_padded, y,\n",
    "                    epochs = 50,\n",
    "                    validation_data = (validation_padded, y_eval),\n",
    "                    batch_size = 64)"
   ]
  },
  {
   "cell_type": "markdown",
   "metadata": {},
   "source": [
    "# Result"
   ]
  },
  {
   "cell_type": "code",
   "execution_count": 15,
   "metadata": {},
   "outputs": [
    {
     "data": {
      "image/png": "[encoded data removed]",
      "text/plain": [
       "<Figure size 864x360 with 1 Axes>"
      ]
     },
     "metadata": {
      "needs_background": "light"
     },
     "output_type": "display_data"
    }
   ],
   "source": [
    "pd.DataFrame(history.history).plot(figsize=(12, 5))\n",
    "plt.grid(True)\n",
    "plt.gca().set_ylim(0, 2)\n",
    "plt.show()"
   ]
  },
  {
   "cell_type": "code",
   "execution_count": 16,
   "metadata": {},
   "outputs": [
    {
     "name": "stdout",
     "output_type": "stream",
     "text": [
      "27/27 [==============================] - 0s 8ms/step - loss: 2.5215 - accuracy: 0.4282\n"
     ]
    }
   ],
   "source": [
    "loss, accuracy = model.evaluate(validation_padded, y_eval)"
   ]
  },
  {
   "cell_type": "code",
   "execution_count": 17,
   "metadata": {},
   "outputs": [
    {
     "name": "stdout",
     "output_type": "stream",
     "text": [
      "Model accuracy is 42.823803424835205%\n"
     ]
    }
   ],
   "source": [
    "print(f\"Model accuracy is {accuracy * 100}%\")"
   ]
  },
  {
   "cell_type": "code",
   "execution_count": 19,
   "metadata": {},
   "outputs": [
    {
     "data": {
      "image/png": "[encoded data removed]",
      "text/plain": [
       "<Figure size 432x360 with 2 Axes>"
      ]
     },
     "metadata": {
      "needs_background": "light"
     },
     "output_type": "display_data"
    }
   ],
   "source": [
    "#cambiar el modelo para que funcione mediante el tokenizador correctamente\n",
    "predicted_proba = np.argmax(model.predict(test_padded), axis =-1)\n",
    "confusion_matrix = tf.math.confusion_matrix(y_test, predicted_proba).numpy()\n",
    "figure = plt.figure(figsize = (6, 5))\n",
    "sns.heatmap(confusion_matrix, annot = True, fmt = \".0f\", cmap = plt.cm.Blues)\n",
    "plt.tight_layout()\n",
    "plt.ylabel(\"Actual class\")\n",
    "plt.xlabel(\"Predicted class\")\n",
    "plt.title(\"Confusion Matrix of classified emotions\")\n",
    "plt.show()"
   ]
  }
 ],
 "metadata": {
  "interpreter": {
   "hash": "52a7b0aa387bd80d697a7b73cc308a7ffd2c74592033bbdab1c5153e6edb5c6c"
  },
  "kernelspec": {
   "display_name": "Python 3.8.13 ('AI')",
   "language": "python",
   "name": "python3"
  },
  "language_info": {
   "codemirror_mode": {
    "name": "ipython",
    "version": 3
   },
   "file_extension": ".py",
   "mimetype": "text/x-python",
   "name": "python",
   "nbconvert_exporter": "python",
   "pygments_lexer": "ipython3",
   "version": "3.8.13"
  }
 },
 "nbformat": 4,
 "nbformat_minor": 4
}
