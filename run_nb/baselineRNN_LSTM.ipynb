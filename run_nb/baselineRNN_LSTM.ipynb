{
 "cells": [
  {
   "cell_type": "code",
   "execution_count": 1,
   "metadata": {},
   "outputs": [],
   "source": [
    "import io\n",
    "import sys\n",
    "PATH = 'D:/Anderson/Downloads/SLF4SA-main/'\n",
    "DIR_DATA = 'D:/Anderson/Downloads/SLF4SA-main/data/input/'\n",
    "sys.path.append(PATH) if PATH not in list(sys.path) else None\n",
    "import os\n",
    "import tensorflow as tf\n",
    "import pandas as pd\n",
    "import numpy as np\n",
    "import seaborn as sns\n",
    "from tqdm import tqdm\n",
    "import plotly.express as px\n",
    "import matplotlib.pyplot as plt\n",
    "from collections import Counter\n",
    "from sklearn import preprocessing\n",
    "\n",
    "#new libraries\n",
    "\n",
    "\n",
    "from sklearn.pipeline import FeatureUnion\n",
    "from tensorflow import keras\n",
    "from keras.layers import Dense\n",
    "from keras.models import Sequential\n",
    "from sklearn.model_selection import RepeatedKFold\n",
    "from sklearn.preprocessing import LabelEncoder, StandardScaler\n",
    "\n",
    "from tensorflow.keras.models import Sequential\n",
    "from tensorflow.keras.layers import Dense, Dropout, LSTM, Embedding, Conv1D, Dropout, MaxPooling1D\n",
    "from tensorflow.keras.preprocessing.text import Tokenizer\n",
    "from tensorflow.keras.preprocessing.sequence import pad_sequences\n",
    "\n",
    "from sklearn.metrics import plot_confusion_matrix\n",
    "from sklearn.feature_selection import SelectKBest, chi2, mutual_info_classif\n",
    "from sklearn.model_selection import StratifiedShuffleSplit, cross_val_score\n",
    "from imblearn.over_sampling import RandomOverSampler\n",
    "from sklearn.feature_extraction.text import CountVectorizer, TfidfVectorizer\n",
    "from sklearn.model_selection import train_test_split, cross_val_score, ShuffleSplit\n",
    "from sklearn.metrics import mean_squared_error, r2_score\n",
    "from sklearn.metrics import classification_report, confusion_matrix, recall_score, log_loss\n",
    "from sklearn.metrics import f1_score, accuracy_score, precision_score\n",
    "\n",
    "from logic.utils import Utils\n",
    "from logic.classifiers import Classifiers\n",
    "from logic.text_processing import TextProcessing\n",
    "from logic.lexical_vectorizer import LexicalVectorizer\n",
    "from root import DIR_RESULTS"
   ]
  },
  {
   "cell_type": "markdown",
   "metadata": {},
   "source": [
    "# Variable initialization "
   ]
  },
  {
   "cell_type": "code",
   "execution_count": 2,
   "metadata": {},
   "outputs": [],
   "source": [
    "lang = 'es'\n",
    "iteration = 10\n",
    "fold = 10\n",
    "classifiers = Classifiers.dict_classifiers\n",
    "tp = TextProcessing(lang=lang)\n",
    "lv = LexicalVectorizer(lang=lang, text_processing=tp)\n",
    "ut = Utils(lang=lang, text_processing=tp)"
   ]
  },
  {
   "cell_type": "markdown",
   "metadata": {},
   "source": [
    "# Import data"
   ]
  },
  {
   "cell_type": "code",
   "execution_count": 3,
   "metadata": {},
   "outputs": [
    {
     "name": "stdout",
     "output_type": "stream",
     "text": [
      "+ Import training...\n",
      "\t\t - Dataset size :(x: 5886 , y: 5886)\n",
      "+ Import test...\n",
      "\t\t - Dataset size :(x: 857 , y: 857)\n"
     ]
    }
   ],
   "source": [
    "print('+ Import training...')\n",
    "x, y = ut.get_data(file_name='tass2020_emotion_train')\n",
    "print('+ Import test...')\n",
    "x_eval, y_eval = ut.get_data(file_name='tass2020_emotion_dev')"
   ]
  },
  {
   "cell_type": "code",
   "execution_count": null,
   "metadata": {},
   "outputs": [],
   "source": []
  },
  {
   "cell_type": "code",
   "execution_count": 4,
   "metadata": {},
   "outputs": [
    {
     "name": "stdout",
     "output_type": "stream",
     "text": [
      "- train:\n",
      " [(0, 437), (1, 92), (2, 49), (3, 866), (4, 2023), (5, 495), (6, 158)]\n",
      "- test:\n",
      " [(0, 163), (1, 21), (2, 18), (3, 404), (4, 866), (5, 211), (6, 83)]\n"
     ]
    }
   ],
   "source": [
    "\n",
    "lb = LabelEncoder()\n",
    "y = lb.fit_transform([i.rstrip() for i in y])\n",
    "y_eval = lb.transform([i.rstrip() for i in y_eval])\n",
    "\n",
    "#k_fold = ShuffleSplit(n_splits=fold, test_size=0.25, random_state=42)\n",
    "\n",
    "x_train, x_test, y_train, y_test = train_test_split(x, y, test_size=.3, random_state=42)\n",
    "#ros_train = RandomOverSampler(random_state=1000)\n",
    "#x_train, y_train = ros_train.fit_resample(x_train, y_train)\n",
    "#x_test, y_test = ros_train.fit_resample(x_test, y_test)\n",
    "print('- train:\\n', sorted(Counter(y_train).items()))\n",
    "print('- test:\\n', sorted(Counter(y_test).items()))"
   ]
  },
  {
   "cell_type": "markdown",
   "metadata": {},
   "source": [
    "# Feature extraction"
   ]
  },
  {
   "cell_type": "code",
   "execution_count": 5,
   "metadata": {},
   "outputs": [],
   "source": [
    "VOCABULARY_SIZE = 16000\n",
    "EMBEDDING_DIM = 32\n",
    "MAX_LENGTH = 80\n",
    "PADDING_TYPE = \"post\"\n",
    "TRUNC_TYPE = \"post\""
   ]
  },
  {
   "cell_type": "code",
   "execution_count": 6,
   "metadata": {},
   "outputs": [],
   "source": [
    "tokenizer = Tokenizer(num_words = VOCABULARY_SIZE)"
   ]
  },
  {
   "cell_type": "code",
   "execution_count": 7,
   "metadata": {},
   "outputs": [],
   "source": [
    "tokenizer.fit_on_texts(x_train)\n",
    "tokenizer.fit_on_texts(x_test)\n",
    "tokenizer.fit_on_texts(x_eval)"
   ]
  },
  {
   "cell_type": "code",
   "execution_count": 8,
   "metadata": {},
   "outputs": [],
   "source": [
    "word_index = tokenizer.word_index\n",
    "train_sequences = tokenizer.texts_to_sequences(x)\n",
    "validation_sequences = tokenizer.texts_to_sequences(x_eval)\n",
    "test_sequences = tokenizer.texts_to_sequences(x_test)"
   ]
  },
  {
   "cell_type": "code",
   "execution_count": 9,
   "metadata": {},
   "outputs": [],
   "source": [
    "train_padded = pad_sequences(train_sequences, maxlen = MAX_LENGTH, padding = PADDING_TYPE, truncating = TRUNC_TYPE)\n",
    "validation_padded = pad_sequences(validation_sequences, maxlen = MAX_LENGTH, padding = PADDING_TYPE, truncating = TRUNC_TYPE)\n",
    "test_padded = pad_sequences(test_sequences, maxlen = MAX_LENGTH, padding = PADDING_TYPE, truncating = TRUNC_TYPE)"
   ]
  },
  {
   "cell_type": "markdown",
   "metadata": {},
   "source": [
    "# NN Architecture"
   ]
  },
  {
   "cell_type": "code",
   "execution_count": 10,
   "metadata": {},
   "outputs": [],
   "source": [
    "OUTPUT_SHAPE = len(set(y_train))"
   ]
  },
  {
   "cell_type": "code",
   "execution_count": 11,
   "metadata": {},
   "outputs": [],
   "source": [
    "tf.keras.backend.clear_session()\n",
    "\n",
    "model = Sequential([\n",
    "        Embedding(VOCABULARY_SIZE, EMBEDDING_DIM, input_length = MAX_LENGTH),\n",
    "        Dropout(0.2),\n",
    "        Conv1D(filters = 256, kernel_size = 3, activation = \"relu\"),\n",
    "        MaxPooling1D(pool_size = 3),\n",
    "        Conv1D(filters = 128, kernel_size = 3, activation = \"relu\"),\n",
    "        MaxPooling1D(pool_size = 3),\n",
    "        LSTM(128),\n",
    "        Dense(128, activation = \"relu\"),\n",
    "        Dropout(0.2),\n",
    "        Dense(64, activation = \"relu\"),\n",
    "        Dense(OUTPUT_SHAPE, activation = \"softmax\")\n",
    "])"
   ]
  },
  {
   "cell_type": "code",
   "execution_count": 12,
   "metadata": {},
   "outputs": [
    {
     "name": "stdout",
     "output_type": "stream",
     "text": [
      "Model: \"sequential\"\n",
      "_________________________________________________________________\n",
      " Layer (type)                Output Shape              Param #   \n",
      "=================================================================\n",
      " embedding (Embedding)       (None, 80, 32)            512000    \n",
      "                                                                 \n",
      " dropout (Dropout)           (None, 80, 32)            0         \n",
      "                                                                 \n",
      " conv1d (Conv1D)             (None, 78, 256)           24832     \n",
      "                                                                 \n",
      " max_pooling1d (MaxPooling1D  (None, 26, 256)          0         \n",
      " )                                                               \n",
      "                                                                 \n",
      " conv1d_1 (Conv1D)           (None, 24, 128)           98432     \n",
      "                                                                 \n",
      " max_pooling1d_1 (MaxPooling  (None, 8, 128)           0         \n",
      " 1D)                                                             \n",
      "                                                                 \n",
      " lstm (LSTM)                 (None, 128)               131584    \n",
      "                                                                 \n",
      " dense (Dense)               (None, 128)               16512     \n",
      "                                                                 \n",
      " dropout_1 (Dropout)         (None, 128)               0         \n",
      "                                                                 \n",
      " dense_1 (Dense)             (None, 64)                8256      \n",
      "                                                                 \n",
      " dense_2 (Dense)             (None, 7)                 455       \n",
      "                                                                 \n",
      "=================================================================\n",
      "Total params: 792,071\n",
      "Trainable params: 792,071\n",
      "Non-trainable params: 0\n",
      "_________________________________________________________________\n"
     ]
    }
   ],
   "source": [
    "model.summary()"
   ]
  },
  {
   "cell_type": "markdown",
   "metadata": {},
   "source": [
    "# Training"
   ]
  },
  {
   "cell_type": "code",
   "execution_count": 13,
   "metadata": {},
   "outputs": [],
   "source": [
    "OPTIMIZER = tf.keras.optimizers.Adam(learning_rate = 0.0001)\n",
    "model.compile(loss = \"sparse_categorical_crossentropy\",\n",
    "              optimizer = OPTIMIZER,\n",
    "              metrics = [\"accuracy\"])"
   ]
  },
  {
   "cell_type": "code",
   "execution_count": 15,
   "metadata": {},
   "outputs": [
    {
     "name": "stdout",
     "output_type": "stream",
     "text": [
      "Epoch 1/150\n",
      "92/92 [==============================] - 4s 45ms/step - loss: 1.4389 - accuracy: 0.4908 - val_loss: 1.4337 - val_accuracy: 0.4912\n",
      "Epoch 2/150\n",
      "92/92 [==============================] - 3s 37ms/step - loss: 1.4245 - accuracy: 0.4910 - val_loss: 1.4200 - val_accuracy: 0.4912\n",
      "Epoch 3/150\n",
      "92/92 [==============================] - 3s 37ms/step - loss: 1.4187 - accuracy: 0.4908 - val_loss: 1.4074 - val_accuracy: 0.4912\n",
      "Epoch 4/150\n",
      "92/92 [==============================] - 3s 37ms/step - loss: 1.3959 - accuracy: 0.4935 - val_loss: 1.3788 - val_accuracy: 0.5053\n",
      "Epoch 5/150\n",
      "92/92 [==============================] - 3s 37ms/step - loss: 1.3026 - accuracy: 0.5246 - val_loss: 1.3009 - val_accuracy: 0.5146\n",
      "Epoch 6/150\n",
      "92/92 [==============================] - 3s 36ms/step - loss: 1.1588 - accuracy: 0.5593 - val_loss: 1.2420 - val_accuracy: 0.5379\n",
      "Epoch 7/150\n",
      "92/92 [==============================] - 3s 37ms/step - loss: 1.0734 - accuracy: 0.5863 - val_loss: 1.2369 - val_accuracy: 0.5356\n",
      "Epoch 8/150\n",
      "92/92 [==============================] - 3s 36ms/step - loss: 1.0198 - accuracy: 0.6062 - val_loss: 1.2338 - val_accuracy: 0.5321\n",
      "Epoch 9/150\n",
      "92/92 [==============================] - 3s 37ms/step - loss: 0.9806 - accuracy: 0.6135 - val_loss: 1.2518 - val_accuracy: 0.5193\n",
      "Epoch 10/150\n",
      "92/92 [==============================] - 3s 36ms/step - loss: 0.9459 - accuracy: 0.6273 - val_loss: 1.2644 - val_accuracy: 0.5193\n",
      "Epoch 11/150\n",
      "92/92 [==============================] - 3s 36ms/step - loss: 0.9120 - accuracy: 0.6376 - val_loss: 1.2867 - val_accuracy: 0.5158\n",
      "Epoch 12/150\n",
      "92/92 [==============================] - 3s 37ms/step - loss: 0.8793 - accuracy: 0.6461 - val_loss: 1.3110 - val_accuracy: 0.5158\n",
      "Epoch 13/150\n",
      "92/92 [==============================] - 3s 37ms/step - loss: 0.8593 - accuracy: 0.6497 - val_loss: 1.3657 - val_accuracy: 0.5321\n",
      "Epoch 14/150\n",
      "92/92 [==============================] - 4s 39ms/step - loss: 0.8386 - accuracy: 0.6575 - val_loss: 1.3844 - val_accuracy: 0.5251\n",
      "Epoch 15/150\n",
      "92/92 [==============================] - 3s 37ms/step - loss: 0.8193 - accuracy: 0.6577 - val_loss: 1.3899 - val_accuracy: 0.5158\n",
      "Epoch 16/150\n",
      "92/92 [==============================] - 3s 35ms/step - loss: 0.8029 - accuracy: 0.6648 - val_loss: 1.4462 - val_accuracy: 0.5029\n",
      "Epoch 17/150\n",
      "92/92 [==============================] - 4s 41ms/step - loss: 0.7703 - accuracy: 0.6767 - val_loss: 1.4418 - val_accuracy: 0.4481\n",
      "Epoch 18/150\n",
      "92/92 [==============================] - 4s 41ms/step - loss: 0.7329 - accuracy: 0.7008 - val_loss: 1.4910 - val_accuracy: 0.4504\n",
      "Epoch 19/150\n",
      "92/92 [==============================] - 4s 41ms/step - loss: 0.7129 - accuracy: 0.7170 - val_loss: 1.5412 - val_accuracy: 0.4002\n",
      "Epoch 20/150\n",
      "92/92 [==============================] - 4s 46ms/step - loss: 0.6913 - accuracy: 0.7275 - val_loss: 1.5586 - val_accuracy: 0.4539\n",
      "Epoch 21/150\n",
      "92/92 [==============================] - 4s 48ms/step - loss: 0.6439 - accuracy: 0.7540 - val_loss: 1.6414 - val_accuracy: 0.4177\n",
      "Epoch 22/150\n",
      "92/92 [==============================] - 4s 48ms/step - loss: 0.6344 - accuracy: 0.7593 - val_loss: 1.6392 - val_accuracy: 0.4492\n",
      "Epoch 23/150\n",
      "92/92 [==============================] - 4s 46ms/step - loss: 0.6076 - accuracy: 0.7727 - val_loss: 1.7048 - val_accuracy: 0.4504\n",
      "Epoch 24/150\n",
      "92/92 [==============================] - 5s 49ms/step - loss: 0.5919 - accuracy: 0.7798 - val_loss: 1.7499 - val_accuracy: 0.4481\n",
      "Epoch 25/150\n",
      "92/92 [==============================] - 4s 39ms/step - loss: 0.5865 - accuracy: 0.7807 - val_loss: 1.7226 - val_accuracy: 0.4399\n",
      "Epoch 26/150\n",
      "92/92 [==============================] - 4s 40ms/step - loss: 0.5439 - accuracy: 0.8004 - val_loss: 1.8320 - val_accuracy: 0.4376\n",
      "Epoch 27/150\n",
      "92/92 [==============================] - 4s 40ms/step - loss: 0.5299 - accuracy: 0.8075 - val_loss: 1.8671 - val_accuracy: 0.4259\n",
      "Epoch 28/150\n",
      "92/92 [==============================] - 4s 40ms/step - loss: 0.5139 - accuracy: 0.8214 - val_loss: 1.9087 - val_accuracy: 0.4376\n",
      "Epoch 29/150\n",
      "92/92 [==============================] - 3s 37ms/step - loss: 0.5076 - accuracy: 0.8194 - val_loss: 1.9080 - val_accuracy: 0.4236\n",
      "Epoch 30/150\n",
      "92/92 [==============================] - 3s 37ms/step - loss: 0.4839 - accuracy: 0.8270 - val_loss: 1.9539 - val_accuracy: 0.4306\n",
      "Epoch 31/150\n",
      "92/92 [==============================] - 4s 38ms/step - loss: 0.4772 - accuracy: 0.8330 - val_loss: 2.0277 - val_accuracy: 0.4434\n",
      "Epoch 32/150\n",
      "92/92 [==============================] - 3s 37ms/step - loss: 0.4600 - accuracy: 0.8400 - val_loss: 2.0180 - val_accuracy: 0.4341\n",
      "Epoch 33/150\n",
      "92/92 [==============================] - 3s 37ms/step - loss: 0.4438 - accuracy: 0.8454 - val_loss: 2.0241 - val_accuracy: 0.4376\n",
      "Epoch 34/150\n",
      "92/92 [==============================] - 3s 37ms/step - loss: 0.4270 - accuracy: 0.8507 - val_loss: 2.1017 - val_accuracy: 0.4329\n",
      "Epoch 35/150\n",
      "92/92 [==============================] - 3s 37ms/step - loss: 0.4351 - accuracy: 0.8445 - val_loss: 2.1142 - val_accuracy: 0.4306\n",
      "Epoch 36/150\n",
      "92/92 [==============================] - 3s 37ms/step - loss: 0.4194 - accuracy: 0.8564 - val_loss: 2.1684 - val_accuracy: 0.4236\n",
      "Epoch 37/150\n",
      "92/92 [==============================] - 3s 36ms/step - loss: 0.4093 - accuracy: 0.8609 - val_loss: 2.1807 - val_accuracy: 0.4131\n",
      "Epoch 38/150\n",
      "92/92 [==============================] - 3s 37ms/step - loss: 0.4025 - accuracy: 0.8590 - val_loss: 2.2950 - val_accuracy: 0.4527\n",
      "Epoch 39/150\n",
      "92/92 [==============================] - 3s 37ms/step - loss: 0.3926 - accuracy: 0.8673 - val_loss: 2.2552 - val_accuracy: 0.4119\n",
      "Epoch 40/150\n",
      "92/92 [==============================] - 3s 36ms/step - loss: 0.3901 - accuracy: 0.8661 - val_loss: 2.2279 - val_accuracy: 0.4317\n",
      "Epoch 41/150\n",
      "92/92 [==============================] - 3s 38ms/step - loss: 0.3800 - accuracy: 0.8665 - val_loss: 2.2990 - val_accuracy: 0.4352\n",
      "Epoch 42/150\n",
      "92/92 [==============================] - 3s 37ms/step - loss: 0.3691 - accuracy: 0.8746 - val_loss: 2.3153 - val_accuracy: 0.4317\n",
      "Epoch 43/150\n",
      "92/92 [==============================] - 3s 38ms/step - loss: 0.3692 - accuracy: 0.8727 - val_loss: 2.3096 - val_accuracy: 0.4154\n",
      "Epoch 44/150\n",
      "92/92 [==============================] - 4s 40ms/step - loss: 0.3580 - accuracy: 0.8778 - val_loss: 2.3820 - val_accuracy: 0.3897\n",
      "Epoch 45/150\n",
      "92/92 [==============================] - 3s 38ms/step - loss: 0.3526 - accuracy: 0.8770 - val_loss: 2.4032 - val_accuracy: 0.4212\n",
      "Epoch 46/150\n",
      "92/92 [==============================] - 3s 38ms/step - loss: 0.3414 - accuracy: 0.8831 - val_loss: 2.4750 - val_accuracy: 0.4212\n",
      "Epoch 47/150\n",
      "92/92 [==============================] - 3s 38ms/step - loss: 0.3340 - accuracy: 0.8843 - val_loss: 2.4980 - val_accuracy: 0.4271\n",
      "Epoch 48/150\n",
      "92/92 [==============================] - 4s 39ms/step - loss: 0.3294 - accuracy: 0.8865 - val_loss: 2.4609 - val_accuracy: 0.4177\n",
      "Epoch 49/150\n",
      "92/92 [==============================] - 3s 37ms/step - loss: 0.3264 - accuracy: 0.8918 - val_loss: 2.5463 - val_accuracy: 0.4306\n",
      "Epoch 50/150\n",
      "92/92 [==============================] - 3s 34ms/step - loss: 0.3209 - accuracy: 0.8908 - val_loss: 2.5026 - val_accuracy: 0.4212\n",
      "Epoch 51/150\n",
      "92/92 [==============================] - 3s 36ms/step - loss: 0.3166 - accuracy: 0.8904 - val_loss: 2.5104 - val_accuracy: 0.4282\n",
      "Epoch 52/150\n",
      "92/92 [==============================] - 3s 36ms/step - loss: 0.3102 - accuracy: 0.8965 - val_loss: 2.5270 - val_accuracy: 0.4317\n",
      "Epoch 53/150\n",
      "92/92 [==============================] - 3s 36ms/step - loss: 0.3074 - accuracy: 0.8935 - val_loss: 2.5172 - val_accuracy: 0.4002\n",
      "Epoch 54/150\n",
      "92/92 [==============================] - 4s 45ms/step - loss: 0.3036 - accuracy: 0.8970 - val_loss: 2.6477 - val_accuracy: 0.4282\n",
      "Epoch 55/150\n",
      "92/92 [==============================] - 4s 42ms/step - loss: 0.2972 - accuracy: 0.8970 - val_loss: 2.6602 - val_accuracy: 0.4282\n",
      "Epoch 56/150\n",
      "92/92 [==============================] - 4s 39ms/step - loss: 0.2851 - accuracy: 0.8994 - val_loss: 2.6636 - val_accuracy: 0.4166\n",
      "Epoch 57/150\n",
      "92/92 [==============================] - 4s 38ms/step - loss: 0.2999 - accuracy: 0.8967 - val_loss: 2.6539 - val_accuracy: 0.4166\n",
      "Epoch 58/150\n",
      "92/92 [==============================] - 4s 39ms/step - loss: 0.2761 - accuracy: 0.9035 - val_loss: 2.7505 - val_accuracy: 0.4131\n",
      "Epoch 59/150\n",
      "92/92 [==============================] - 4s 40ms/step - loss: 0.2706 - accuracy: 0.9032 - val_loss: 2.7595 - val_accuracy: 0.4154\n",
      "Epoch 60/150\n",
      "92/92 [==============================] - 4s 39ms/step - loss: 0.2634 - accuracy: 0.9120 - val_loss: 2.7146 - val_accuracy: 0.4049\n",
      "Epoch 61/150\n",
      "92/92 [==============================] - 4s 39ms/step - loss: 0.2654 - accuracy: 0.9105 - val_loss: 2.7653 - val_accuracy: 0.4131\n",
      "Epoch 62/150\n",
      "92/92 [==============================] - 4s 39ms/step - loss: 0.2726 - accuracy: 0.9047 - val_loss: 2.6698 - val_accuracy: 0.4002\n",
      "Epoch 63/150\n",
      "92/92 [==============================] - 4s 38ms/step - loss: 0.2752 - accuracy: 0.9025 - val_loss: 2.7160 - val_accuracy: 0.4142\n",
      "Epoch 64/150\n",
      "92/92 [==============================] - 4s 39ms/step - loss: 0.2502 - accuracy: 0.9106 - val_loss: 2.7097 - val_accuracy: 0.4037\n",
      "Epoch 65/150\n",
      "92/92 [==============================] - 4s 39ms/step - loss: 0.2503 - accuracy: 0.9145 - val_loss: 2.8637 - val_accuracy: 0.4166\n",
      "Epoch 66/150\n",
      "92/92 [==============================] - 4s 39ms/step - loss: 0.2414 - accuracy: 0.9173 - val_loss: 2.8257 - val_accuracy: 0.4131\n",
      "Epoch 67/150\n",
      "92/92 [==============================] - 3s 38ms/step - loss: 0.2542 - accuracy: 0.9127 - val_loss: 2.8698 - val_accuracy: 0.4317\n",
      "Epoch 68/150\n",
      "92/92 [==============================] - 4s 38ms/step - loss: 0.2396 - accuracy: 0.9157 - val_loss: 2.9287 - val_accuracy: 0.4189\n",
      "Epoch 69/150\n",
      "92/92 [==============================] - 3s 38ms/step - loss: 0.2351 - accuracy: 0.9178 - val_loss: 2.8785 - val_accuracy: 0.4096\n",
      "Epoch 70/150\n",
      "92/92 [==============================] - 3s 38ms/step - loss: 0.2318 - accuracy: 0.9229 - val_loss: 2.8645 - val_accuracy: 0.4212\n",
      "Epoch 71/150\n",
      "92/92 [==============================] - 4s 38ms/step - loss: 0.2373 - accuracy: 0.9198 - val_loss: 2.8980 - val_accuracy: 0.4189\n",
      "Epoch 72/150\n",
      "92/92 [==============================] - 3s 38ms/step - loss: 0.2251 - accuracy: 0.9207 - val_loss: 2.9266 - val_accuracy: 0.4142\n",
      "Epoch 73/150\n",
      "92/92 [==============================] - 4s 38ms/step - loss: 0.2253 - accuracy: 0.9234 - val_loss: 3.0400 - val_accuracy: 0.4212\n",
      "Epoch 74/150\n",
      "92/92 [==============================] - 4s 38ms/step - loss: 0.2176 - accuracy: 0.9258 - val_loss: 3.0827 - val_accuracy: 0.4177\n",
      "Epoch 75/150\n",
      "92/92 [==============================] - 4s 38ms/step - loss: 0.2254 - accuracy: 0.9252 - val_loss: 2.9703 - val_accuracy: 0.4177\n",
      "Epoch 76/150\n",
      "92/92 [==============================] - 4s 39ms/step - loss: 0.2128 - accuracy: 0.9275 - val_loss: 3.0880 - val_accuracy: 0.4247\n",
      "Epoch 77/150\n",
      "92/92 [==============================] - 4s 38ms/step - loss: 0.2203 - accuracy: 0.9220 - val_loss: 3.0573 - val_accuracy: 0.4259\n",
      "Epoch 78/150\n",
      "92/92 [==============================] - 4s 39ms/step - loss: 0.2144 - accuracy: 0.9230 - val_loss: 3.0140 - val_accuracy: 0.4201\n",
      "Epoch 79/150\n",
      "92/92 [==============================] - 4s 39ms/step - loss: 0.2162 - accuracy: 0.9285 - val_loss: 3.0125 - val_accuracy: 0.4212\n",
      "Epoch 80/150\n",
      "92/92 [==============================] - 4s 38ms/step - loss: 0.2265 - accuracy: 0.9208 - val_loss: 2.9494 - val_accuracy: 0.4061\n",
      "Epoch 81/150\n",
      "92/92 [==============================] - 4s 39ms/step - loss: 0.2156 - accuracy: 0.9271 - val_loss: 3.0726 - val_accuracy: 0.4224\n",
      "Epoch 82/150\n",
      "92/92 [==============================] - 4s 38ms/step - loss: 0.1867 - accuracy: 0.9363 - val_loss: 3.1473 - val_accuracy: 0.4061\n",
      "Epoch 83/150\n",
      "92/92 [==============================] - 4s 38ms/step - loss: 0.2011 - accuracy: 0.9334 - val_loss: 3.1196 - val_accuracy: 0.4259\n",
      "Epoch 84/150\n",
      "92/92 [==============================] - 4s 39ms/step - loss: 0.2021 - accuracy: 0.9256 - val_loss: 3.1288 - val_accuracy: 0.4189\n",
      "Epoch 85/150\n",
      "92/92 [==============================] - 4s 39ms/step - loss: 0.2048 - accuracy: 0.9302 - val_loss: 3.1249 - val_accuracy: 0.4107\n",
      "Epoch 86/150\n",
      "92/92 [==============================] - 4s 39ms/step - loss: 0.1925 - accuracy: 0.9361 - val_loss: 3.1346 - val_accuracy: 0.4154\n",
      "Epoch 87/150\n",
      "92/92 [==============================] - 4s 39ms/step - loss: 0.1986 - accuracy: 0.9337 - val_loss: 3.1172 - val_accuracy: 0.4131\n",
      "Epoch 88/150\n",
      "92/92 [==============================] - 4s 39ms/step - loss: 0.1922 - accuracy: 0.9341 - val_loss: 3.1403 - val_accuracy: 0.4142\n",
      "Epoch 89/150\n",
      "92/92 [==============================] - 4s 39ms/step - loss: 0.1825 - accuracy: 0.9351 - val_loss: 3.2114 - val_accuracy: 0.3979\n",
      "Epoch 90/150\n",
      "92/92 [==============================] - 4s 39ms/step - loss: 0.1864 - accuracy: 0.9361 - val_loss: 3.3018 - val_accuracy: 0.4154\n",
      "Epoch 91/150\n",
      "92/92 [==============================] - 4s 39ms/step - loss: 0.1800 - accuracy: 0.9400 - val_loss: 3.2573 - val_accuracy: 0.4096\n",
      "Epoch 92/150\n",
      "92/92 [==============================] - 4s 39ms/step - loss: 0.1793 - accuracy: 0.9385 - val_loss: 3.2809 - val_accuracy: 0.3956\n",
      "Epoch 93/150\n",
      "92/92 [==============================] - 4s 38ms/step - loss: 0.1926 - accuracy: 0.9319 - val_loss: 3.1555 - val_accuracy: 0.4037\n",
      "Epoch 94/150\n",
      "92/92 [==============================] - 4s 39ms/step - loss: 0.1805 - accuracy: 0.9373 - val_loss: 3.4080 - val_accuracy: 0.4107\n",
      "Epoch 95/150\n",
      "92/92 [==============================] - 4s 39ms/step - loss: 0.1844 - accuracy: 0.9348 - val_loss: 3.3206 - val_accuracy: 0.4096\n",
      "Epoch 96/150\n",
      "92/92 [==============================] - 4s 39ms/step - loss: 0.1708 - accuracy: 0.9410 - val_loss: 3.3028 - val_accuracy: 0.3991\n",
      "Epoch 97/150\n",
      "92/92 [==============================] - 4s 39ms/step - loss: 0.1819 - accuracy: 0.9388 - val_loss: 3.3771 - val_accuracy: 0.4026\n",
      "Epoch 98/150\n",
      "92/92 [==============================] - 4s 38ms/step - loss: 0.1771 - accuracy: 0.9380 - val_loss: 3.3707 - val_accuracy: 0.4154\n",
      "Epoch 99/150\n",
      "92/92 [==============================] - 4s 40ms/step - loss: 0.1794 - accuracy: 0.9365 - val_loss: 3.2760 - val_accuracy: 0.4107\n",
      "Epoch 100/150\n",
      "92/92 [==============================] - 4s 40ms/step - loss: 0.1815 - accuracy: 0.9344 - val_loss: 3.3044 - val_accuracy: 0.4224\n",
      "Epoch 101/150\n",
      "92/92 [==============================] - 4s 39ms/step - loss: 0.1719 - accuracy: 0.9431 - val_loss: 3.4150 - val_accuracy: 0.4177\n",
      "Epoch 102/150\n",
      "92/92 [==============================] - 4s 39ms/step - loss: 0.1712 - accuracy: 0.9426 - val_loss: 3.3531 - val_accuracy: 0.4072\n",
      "Epoch 103/150\n",
      "92/92 [==============================] - 4s 39ms/step - loss: 0.1671 - accuracy: 0.9433 - val_loss: 3.5397 - val_accuracy: 0.4201\n",
      "Epoch 104/150\n",
      "92/92 [==============================] - 4s 41ms/step - loss: 0.1782 - accuracy: 0.9383 - val_loss: 3.3493 - val_accuracy: 0.4154\n",
      "Epoch 105/150\n",
      "92/92 [==============================] - 4s 39ms/step - loss: 0.1703 - accuracy: 0.9441 - val_loss: 3.3734 - val_accuracy: 0.4131\n",
      "Epoch 106/150\n",
      "92/92 [==============================] - 4s 39ms/step - loss: 0.1607 - accuracy: 0.9444 - val_loss: 3.3742 - val_accuracy: 0.4142\n",
      "Epoch 107/150\n",
      "92/92 [==============================] - 4s 40ms/step - loss: 0.1630 - accuracy: 0.9438 - val_loss: 3.3608 - val_accuracy: 0.4049\n",
      "Epoch 108/150\n",
      "92/92 [==============================] - 4s 38ms/step - loss: 0.1630 - accuracy: 0.9450 - val_loss: 3.4694 - val_accuracy: 0.4084\n",
      "Epoch 109/150\n",
      "92/92 [==============================] - 4s 41ms/step - loss: 0.1587 - accuracy: 0.9461 - val_loss: 3.5903 - val_accuracy: 0.4166\n",
      "Epoch 110/150\n",
      "92/92 [==============================] - 4s 42ms/step - loss: 0.1698 - accuracy: 0.9419 - val_loss: 3.5062 - val_accuracy: 0.4072\n",
      "Epoch 111/150\n",
      "92/92 [==============================] - 4s 41ms/step - loss: 0.1630 - accuracy: 0.9446 - val_loss: 3.4017 - val_accuracy: 0.3897\n",
      "Epoch 112/150\n",
      "92/92 [==============================] - 4s 41ms/step - loss: 0.1816 - accuracy: 0.9375 - val_loss: 3.4327 - val_accuracy: 0.4142\n",
      "Epoch 113/150\n",
      "92/92 [==============================] - 4s 39ms/step - loss: 0.1625 - accuracy: 0.9446 - val_loss: 3.5360 - val_accuracy: 0.4142\n",
      "Epoch 114/150\n",
      "92/92 [==============================] - 4s 40ms/step - loss: 0.1489 - accuracy: 0.9485 - val_loss: 3.5985 - val_accuracy: 0.4072\n",
      "Epoch 115/150\n",
      "92/92 [==============================] - 4s 39ms/step - loss: 0.1536 - accuracy: 0.9484 - val_loss: 3.6480 - val_accuracy: 0.4061\n",
      "Epoch 116/150\n",
      "92/92 [==============================] - 4s 40ms/step - loss: 0.1442 - accuracy: 0.9492 - val_loss: 3.8470 - val_accuracy: 0.4177\n",
      "Epoch 117/150\n",
      "92/92 [==============================] - 4s 39ms/step - loss: 0.1517 - accuracy: 0.9502 - val_loss: 3.6590 - val_accuracy: 0.4037\n",
      "Epoch 118/150\n",
      "92/92 [==============================] - 3s 38ms/step - loss: 0.1460 - accuracy: 0.9511 - val_loss: 3.7234 - val_accuracy: 0.4131\n",
      "Epoch 119/150\n",
      "92/92 [==============================] - 3s 38ms/step - loss: 0.1523 - accuracy: 0.9472 - val_loss: 3.7207 - val_accuracy: 0.4084\n",
      "Epoch 120/150\n",
      "92/92 [==============================] - 3s 38ms/step - loss: 0.1467 - accuracy: 0.9509 - val_loss: 3.7941 - val_accuracy: 0.4049\n",
      "Epoch 121/150\n",
      "92/92 [==============================] - 4s 38ms/step - loss: 0.1402 - accuracy: 0.9534 - val_loss: 3.7199 - val_accuracy: 0.4014\n",
      "Epoch 122/150\n",
      "92/92 [==============================] - 4s 38ms/step - loss: 0.1578 - accuracy: 0.9424 - val_loss: 3.6508 - val_accuracy: 0.3944\n",
      "Epoch 123/150\n",
      "92/92 [==============================] - 4s 38ms/step - loss: 0.1427 - accuracy: 0.9509 - val_loss: 3.6485 - val_accuracy: 0.4026\n",
      "Epoch 124/150\n",
      "92/92 [==============================] - 3s 38ms/step - loss: 0.1428 - accuracy: 0.9511 - val_loss: 3.7567 - val_accuracy: 0.4084\n",
      "Epoch 125/150\n",
      "92/92 [==============================] - 3s 38ms/step - loss: 0.1367 - accuracy: 0.9548 - val_loss: 3.7043 - val_accuracy: 0.4014\n",
      "Epoch 126/150\n",
      "92/92 [==============================] - 4s 38ms/step - loss: 0.1407 - accuracy: 0.9501 - val_loss: 3.7643 - val_accuracy: 0.3909\n",
      "Epoch 127/150\n",
      "92/92 [==============================] - 3s 38ms/step - loss: 0.1407 - accuracy: 0.9531 - val_loss: 3.7365 - val_accuracy: 0.4014\n",
      "Epoch 128/150\n",
      "92/92 [==============================] - 4s 38ms/step - loss: 0.1456 - accuracy: 0.9517 - val_loss: 3.7557 - val_accuracy: 0.3967\n",
      "Epoch 129/150\n",
      "92/92 [==============================] - 3s 38ms/step - loss: 0.1408 - accuracy: 0.9526 - val_loss: 3.6980 - val_accuracy: 0.3967\n",
      "Epoch 130/150\n",
      "92/92 [==============================] - 3s 38ms/step - loss: 0.1376 - accuracy: 0.9519 - val_loss: 3.6820 - val_accuracy: 0.3991\n",
      "Epoch 131/150\n",
      "92/92 [==============================] - 4s 38ms/step - loss: 0.1350 - accuracy: 0.9545 - val_loss: 3.7697 - val_accuracy: 0.3979\n",
      "Epoch 132/150\n",
      "92/92 [==============================] - 4s 39ms/step - loss: 0.1450 - accuracy: 0.9504 - val_loss: 3.7823 - val_accuracy: 0.3991\n",
      "Epoch 133/150\n",
      "92/92 [==============================] - 3s 36ms/step - loss: 0.1353 - accuracy: 0.9523 - val_loss: 3.7077 - val_accuracy: 0.3909\n",
      "Epoch 134/150\n",
      "92/92 [==============================] - 3s 37ms/step - loss: 0.1468 - accuracy: 0.9497 - val_loss: 3.8804 - val_accuracy: 0.4096\n",
      "Epoch 135/150\n",
      "92/92 [==============================] - 4s 38ms/step - loss: 0.1460 - accuracy: 0.9468 - val_loss: 3.7276 - val_accuracy: 0.3979\n",
      "Epoch 136/150\n",
      "92/92 [==============================] - 3s 37ms/step - loss: 0.1336 - accuracy: 0.9560 - val_loss: 3.8396 - val_accuracy: 0.3909\n",
      "Epoch 137/150\n",
      "92/92 [==============================] - 3s 34ms/step - loss: 0.1335 - accuracy: 0.9563 - val_loss: 3.7842 - val_accuracy: 0.4002\n",
      "Epoch 138/150\n",
      "92/92 [==============================] - 3s 35ms/step - loss: 0.1291 - accuracy: 0.9557 - val_loss: 3.9416 - val_accuracy: 0.4026\n",
      "Epoch 139/150\n",
      "92/92 [==============================] - 4s 39ms/step - loss: 0.1287 - accuracy: 0.9584 - val_loss: 3.8319 - val_accuracy: 0.3839\n",
      "Epoch 140/150\n",
      "92/92 [==============================] - 4s 39ms/step - loss: 0.1298 - accuracy: 0.9560 - val_loss: 3.9644 - val_accuracy: 0.4002\n",
      "Epoch 141/150\n",
      "92/92 [==============================] - 4s 38ms/step - loss: 0.1243 - accuracy: 0.9580 - val_loss: 3.9961 - val_accuracy: 0.4037\n",
      "Epoch 142/150\n",
      "92/92 [==============================] - 4s 38ms/step - loss: 0.1299 - accuracy: 0.9555 - val_loss: 3.8339 - val_accuracy: 0.4037\n",
      "Epoch 143/150\n",
      "92/92 [==============================] - 4s 38ms/step - loss: 0.1298 - accuracy: 0.9541 - val_loss: 3.8008 - val_accuracy: 0.3921\n",
      "Epoch 144/150\n",
      "92/92 [==============================] - 4s 39ms/step - loss: 0.1301 - accuracy: 0.9577 - val_loss: 3.8349 - val_accuracy: 0.3921\n",
      "Epoch 145/150\n",
      "92/92 [==============================] - 4s 38ms/step - loss: 0.1324 - accuracy: 0.9562 - val_loss: 3.9136 - val_accuracy: 0.3827\n",
      "Epoch 146/150\n",
      "92/92 [==============================] - 3s 38ms/step - loss: 0.1232 - accuracy: 0.9563 - val_loss: 3.9181 - val_accuracy: 0.3816\n",
      "Epoch 147/150\n",
      "92/92 [==============================] - 4s 38ms/step - loss: 0.1279 - accuracy: 0.9562 - val_loss: 3.9464 - val_accuracy: 0.3956\n",
      "Epoch 148/150\n",
      "92/92 [==============================] - 4s 39ms/step - loss: 0.1216 - accuracy: 0.9604 - val_loss: 3.9721 - val_accuracy: 0.3874\n",
      "Epoch 149/150\n",
      "92/92 [==============================] - 4s 39ms/step - loss: 0.1247 - accuracy: 0.9560 - val_loss: 4.0572 - val_accuracy: 0.3851\n",
      "Epoch 150/150\n",
      "92/92 [==============================] - 4s 39ms/step - loss: 0.1211 - accuracy: 0.9584 - val_loss: 4.0151 - val_accuracy: 0.3921\n"
     ]
    }
   ],
   "source": [
    "history = model.fit(train_padded, y,\n",
    "                    epochs = 50,\n",
    "                    validation_data = (validation_padded, y_eval),\n",
    "                    batch_size = 64)"
   ]
  },
  {
   "cell_type": "markdown",
   "metadata": {},
   "source": [
    "# Result"
   ]
  },
  {
   "cell_type": "code",
   "execution_count": 16,
   "metadata": {},
   "outputs": [
    {
     "data": {
      "image/png": "[encoded data removed]",
      "text/plain": [
       "<Figure size 864x360 with 1 Axes>"
      ]
     },
     "metadata": {
      "needs_background": "light"
     },
     "output_type": "display_data"
    }
   ],
   "source": [
    "pd.DataFrame(history.history).plot(figsize=(12, 5))\n",
    "plt.grid(True)\n",
    "plt.gca().set_ylim(0, 2)\n",
    "plt.show()"
   ]
  },
  {
   "cell_type": "code",
   "execution_count": 21,
   "metadata": {},
   "outputs": [
    {
     "name": "stdout",
     "output_type": "stream",
     "text": [
      "27/27 [==============================] - 0s 8ms/step - loss: 4.0151 - accuracy: 0.3921\n"
     ]
    }
   ],
   "source": [
    "loss, accuracy = model.evaluate(validation_padded, y_eval)"
   ]
  },
  {
   "cell_type": "code",
   "execution_count": 22,
   "metadata": {},
   "outputs": [
    {
     "name": "stdout",
     "output_type": "stream",
     "text": [
      "Model accuracy is 39.20653462409973%\n"
     ]
    }
   ],
   "source": [
    "print(f\"Model accuracy is {accuracy * 100}%\")"
   ]
  },
  {
   "cell_type": "code",
   "execution_count": null,
   "metadata": {},
   "outputs": [],
   "source": [
    "#cambiar el modelo para que funcione mediante el tokenizador correctamente"
   ]
  }
 ],
 "metadata": {
  "interpreter": {
   "hash": "52a7b0aa387bd80d697a7b73cc308a7ffd2c74592033bbdab1c5153e6edb5c6c"
  },
  "kernelspec": {
   "display_name": "Python 3.8.13 ('AI')",
   "language": "python",
   "name": "python3"
  },
  "language_info": {
   "codemirror_mode": {
    "name": "ipython",
    "version": 3
   },
   "file_extension": ".py",
   "mimetype": "text/x-python",
   "name": "python",
   "nbconvert_exporter": "python",
   "pygments_lexer": "ipython3",
   "version": "3.8.13"
  }
 },
 "nbformat": 4,
 "nbformat_minor": 4
}
